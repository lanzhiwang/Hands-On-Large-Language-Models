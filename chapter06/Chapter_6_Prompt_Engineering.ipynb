{
  "cells": [
    {
      "cell_type": "markdown",
      "metadata": {
        "id": "-ETtu9CvVMDR"
      },
      "source": [
        "<h1>Chapter 6 - Prompt Engineering</h1>\n",
        "\n",
        "<i>Methods for improving the output through prompt engineering.</i>\n",
        "\n",
        "<a href=\"https://www.amazon.com/Hands-Large-Language-Models-Understanding/dp/1098150961\"><img src=\"https://img.shields.io/badge/Buy%20the%20Book!-grey?logo=amazon\"></a>  <a href=\"https://www.oreilly.com/library/view/hands-on-large-language/9781098150952/\"><img src=\"https://img.shields.io/badge/O'Reilly-white.svg?logo=data:image/svg%2bxml;base64,PHN2ZyB3aWR0aD0iMzQiIGhlaWdodD0iMjciIHZpZXdCb3g9IjAgMCAzNCAyNyIgZmlsbD0ibm9uZSIgeG1sbnM9Imh0dHA6Ly93d3cudzMub3JnLzIwMDAvc3ZnIj4KPGNpcmNsZSBjeD0iMTMiIGN5PSIxNCIgcj0iMTEiIHN0cm9rZT0iI0Q0MDEwMSIgc3Ryb2tlLXdpZHRoPSI0Ii8+CjxjaXJjbGUgY3g9IjMwLjUiIGN5PSIzLjUiIHI9IjMuNSIgZmlsbD0iI0Q0MDEwMSIvPgo8L3N2Zz4K\"></a>  <a href=\"https://github.com/HandsOnLLM/Hands-On-Large-Language-Models\"><img src=\"https://img.shields.io/badge/GitHub%20Repository-black?logo=github\"></a>\n",
        "\n",
        "[![Open In Colab](https://colab.research.google.com/assets/colab-badge.svg)](https://colab.research.google.com/github/HandsOnLLM/Hands-On-Large-Language-Models/blob/main/chapter06/Chapter%206%20-%20Prompt%20Engineering.ipynb)\n",
        "\n",
        "---\n",
        "\n",
        "This notebook is for Chapter 6 of the [Hands-On Large Language Models](https://www.amazon.com/Hands-Large-Language-Models-Understanding/dp/1098150961) book by [Jay Alammar](https://www.linkedin.com/in/jalammar) and [Maarten Grootendorst](https://www.linkedin.com/in/mgrootendorst/).\n",
        "\n",
        "---\n",
        "\n",
        "<a href=\"https://www.amazon.com/Hands-Large-Language-Models-Understanding/dp/1098150961\">\n",
        "<img src=\"https://raw.githubusercontent.com/HandsOnLLM/Hands-On-Large-Language-Models/main/images/book_cover.png\" width=\"350\"/></a>"
      ]
    },
    {
      "cell_type": "markdown",
      "metadata": {
        "id": "-bs2TgV6wqqg"
      },
      "source": [
        "### [OPTIONAL] - Installing Packages on <img src=\"https://colab.google/static/images/icons/colab.png\" width=100>\n",
        "\n",
        "If you are viewing this notebook on Google Colab (or any other cloud vendor), you need to **uncomment and run** the following codeblock to install the dependencies for this chapter:\n",
        "\n",
        "---\n",
        "\n",
        "💡 **NOTE**: We will want to use a GPU to run the examples in this notebook. In Google Colab, go to\n",
        "**Runtime > Change runtime type > Hardware accelerator > GPU > GPU type > T4**.\n",
        "\n",
        "---\n"
      ]
    },
    {
      "cell_type": "code",
      "execution_count": 1,
      "metadata": {
        "id": "nOUZyP5wwqqg"
      },
      "outputs": [],
      "source": [
        "# %%capture\n",
        "# !pip install langchain>=0.1.17 openai>=1.13.3 langchain_openai>=0.1.6 transformers>=4.40.1 datasets>=2.18.0 accelerate>=0.27.2 sentence-transformers>=2.5.1 duckduckgo-search>=5.2.2"
      ]
    },
    {
      "cell_type": "markdown",
      "metadata": {
        "id": "KaB0B1LdMcPM"
      },
      "source": [
        "## Loading our model"
      ]
    },
    {
      "cell_type": "code",
      "source": [
        "import torch\n",
        "from transformers import AutoModelForCausalLM, AutoTokenizer, pipeline\n",
        "\n",
        "# Load model and tokenizer\n",
        "model = AutoModelForCausalLM.from_pretrained(\n",
        "    \"microsoft/Phi-3-mini-4k-instruct\",\n",
        "    device_map=\"cuda\",\n",
        "    torch_dtype=\"auto\",\n",
        "    trust_remote_code=True,\n",
        ")\n",
        "model"
      ],
      "metadata": {
        "id": "A1KixwEsxgcH",
        "colab": {
          "base_uri": "https://localhost:8080/",
          "height": 676,
          "referenced_widgets": [
            "40e335ceac1c461db13a2427510c9db8",
            "bbfcaccf0f93489a9a19276d4804fa85",
            "4f22fa55f6fb459894531e14d5f99f2e",
            "2ac74e9cbdf349a28599c3e282f7c1b0",
            "478c2be061724c25906bea75fefef20a",
            "155047bbc09e4925954e009b65abeab2",
            "44573d392259470a8d1a0e4b8f2c9d58",
            "72ae2d824256444f8b43c411384a78d0",
            "e4d4cd45fd2044d69379069905cfaa7d",
            "5c95cfaa28ee4538a9b911c49edeb7e2",
            "65ef8d8dde0d42c8b49327e8ba8ffeb8"
          ]
        },
        "outputId": "29aed09b-7574-4f58-9e98-f0ea68a54a0b"
      },
      "execution_count": 2,
      "outputs": [
        {
          "output_type": "stream",
          "name": "stderr",
          "text": [
            "/usr/local/lib/python3.11/dist-packages/huggingface_hub/utils/_auth.py:94: UserWarning: \n",
            "The secret `HF_TOKEN` does not exist in your Colab secrets.\n",
            "To authenticate with the Hugging Face Hub, create a token in your settings tab (https://huggingface.co/settings/tokens), set it as secret in your Google Colab and restart your session.\n",
            "You will be able to reuse this secret in all of your notebooks.\n",
            "Please note that authentication is recommended but still optional to access public models or datasets.\n",
            "  warnings.warn(\n",
            "WARNING:transformers_modules.microsoft.Phi-3-mini-4k-instruct.0a67737cc96d2554230f90338b163bc6380a2a85.modeling_phi3:`flash-attention` package not found, consider installing for better performance: No module named 'flash_attn'.\n",
            "WARNING:transformers_modules.microsoft.Phi-3-mini-4k-instruct.0a67737cc96d2554230f90338b163bc6380a2a85.modeling_phi3:Current `flash-attention` does not support `window_size`. Either upgrade or use `attn_implementation='eager'`.\n"
          ]
        },
        {
          "output_type": "display_data",
          "data": {
            "text/plain": [
              "Loading checkpoint shards:   0%|          | 0/2 [00:00<?, ?it/s]"
            ],
            "application/vnd.jupyter.widget-view+json": {
              "version_major": 2,
              "version_minor": 0,
              "model_id": "40e335ceac1c461db13a2427510c9db8"
            }
          },
          "metadata": {}
        },
        {
          "output_type": "execute_result",
          "data": {
            "text/plain": [
              "Phi3ForCausalLM(\n",
              "  (model): Phi3Model(\n",
              "    (embed_tokens): Embedding(32064, 3072, padding_idx=32000)\n",
              "    (embed_dropout): Dropout(p=0.0, inplace=False)\n",
              "    (layers): ModuleList(\n",
              "      (0-31): 32 x Phi3DecoderLayer(\n",
              "        (self_attn): Phi3Attention(\n",
              "          (o_proj): Linear(in_features=3072, out_features=3072, bias=False)\n",
              "          (qkv_proj): Linear(in_features=3072, out_features=9216, bias=False)\n",
              "          (rotary_emb): Phi3RotaryEmbedding()\n",
              "        )\n",
              "        (mlp): Phi3MLP(\n",
              "          (gate_up_proj): Linear(in_features=3072, out_features=16384, bias=False)\n",
              "          (down_proj): Linear(in_features=8192, out_features=3072, bias=False)\n",
              "          (activation_fn): SiLU()\n",
              "        )\n",
              "        (input_layernorm): Phi3RMSNorm()\n",
              "        (resid_attn_dropout): Dropout(p=0.0, inplace=False)\n",
              "        (resid_mlp_dropout): Dropout(p=0.0, inplace=False)\n",
              "        (post_attention_layernorm): Phi3RMSNorm()\n",
              "      )\n",
              "    )\n",
              "    (norm): Phi3RMSNorm()\n",
              "  )\n",
              "  (lm_head): Linear(in_features=3072, out_features=32064, bias=False)\n",
              ")"
            ]
          },
          "metadata": {},
          "execution_count": 2
        }
      ]
    },
    {
      "cell_type": "code",
      "source": [
        "tokenizer = AutoTokenizer.from_pretrained(\"microsoft/Phi-3-mini-4k-instruct\")\n",
        "tokenizer"
      ],
      "metadata": {
        "id": "cq6eWhvGxgfk",
        "colab": {
          "base_uri": "https://localhost:8080/"
        },
        "outputId": "06347a19-b18c-4970-a024-20a5ec910ed3"
      },
      "execution_count": 3,
      "outputs": [
        {
          "output_type": "execute_result",
          "data": {
            "text/plain": [
              "LlamaTokenizerFast(name_or_path='microsoft/Phi-3-mini-4k-instruct', vocab_size=32000, model_max_length=4096, is_fast=True, padding_side='left', truncation_side='right', special_tokens={'bos_token': '<s>', 'eos_token': '<|endoftext|>', 'unk_token': '<unk>', 'pad_token': '<|endoftext|>'}, clean_up_tokenization_spaces=False, added_tokens_decoder={\n",
              "\t0: AddedToken(\"<unk>\", rstrip=False, lstrip=False, single_word=False, normalized=False, special=True),\n",
              "\t1: AddedToken(\"<s>\", rstrip=False, lstrip=False, single_word=False, normalized=False, special=True),\n",
              "\t2: AddedToken(\"</s>\", rstrip=True, lstrip=False, single_word=False, normalized=False, special=False),\n",
              "\t32000: AddedToken(\"<|endoftext|>\", rstrip=False, lstrip=False, single_word=False, normalized=False, special=True),\n",
              "\t32001: AddedToken(\"<|assistant|>\", rstrip=True, lstrip=False, single_word=False, normalized=False, special=True),\n",
              "\t32002: AddedToken(\"<|placeholder1|>\", rstrip=True, lstrip=False, single_word=False, normalized=False, special=True),\n",
              "\t32003: AddedToken(\"<|placeholder2|>\", rstrip=True, lstrip=False, single_word=False, normalized=False, special=True),\n",
              "\t32004: AddedToken(\"<|placeholder3|>\", rstrip=True, lstrip=False, single_word=False, normalized=False, special=True),\n",
              "\t32005: AddedToken(\"<|placeholder4|>\", rstrip=True, lstrip=False, single_word=False, normalized=False, special=True),\n",
              "\t32006: AddedToken(\"<|system|>\", rstrip=True, lstrip=False, single_word=False, normalized=False, special=True),\n",
              "\t32007: AddedToken(\"<|end|>\", rstrip=True, lstrip=False, single_word=False, normalized=False, special=True),\n",
              "\t32008: AddedToken(\"<|placeholder5|>\", rstrip=True, lstrip=False, single_word=False, normalized=False, special=True),\n",
              "\t32009: AddedToken(\"<|placeholder6|>\", rstrip=True, lstrip=False, single_word=False, normalized=False, special=True),\n",
              "\t32010: AddedToken(\"<|user|>\", rstrip=True, lstrip=False, single_word=False, normalized=False, special=True),\n",
              "}\n",
              ")"
            ]
          },
          "metadata": {},
          "execution_count": 3
        }
      ]
    },
    {
      "cell_type": "code",
      "source": [
        "# Create a pipeline\n",
        "pipe = pipeline(\n",
        "    \"text-generation\",\n",
        "    model=model,\n",
        "    tokenizer=tokenizer,\n",
        "    return_full_text=False,\n",
        "    max_new_tokens=500,\n",
        "    do_sample=False,\n",
        ")\n",
        "pipe"
      ],
      "metadata": {
        "id": "a_0auK4Oxgi6",
        "colab": {
          "base_uri": "https://localhost:8080/"
        },
        "outputId": "3abb6d21-3963-4223-d299-fcdfbcf922d4"
      },
      "execution_count": 4,
      "outputs": [
        {
          "output_type": "stream",
          "name": "stderr",
          "text": [
            "Device set to use cuda\n"
          ]
        },
        {
          "output_type": "execute_result",
          "data": {
            "text/plain": [
              "<transformers.pipelines.text_generation.TextGenerationPipeline at 0x7dd015cf0510>"
            ]
          },
          "metadata": {},
          "execution_count": 4
        }
      ]
    },
    {
      "cell_type": "markdown",
      "source": [
        "## Prompt"
      ],
      "metadata": {
        "id": "az4cVlKOyPtx"
      }
    },
    {
      "cell_type": "code",
      "execution_count": 5,
      "metadata": {
        "id": "uZIMVL0Q3g8P",
        "colab": {
          "base_uri": "https://localhost:8080/"
        },
        "outputId": "0c003b25-c9f2-4c5f-8b3d-c5d5d73e45bd"
      },
      "outputs": [
        {
          "output_type": "stream",
          "name": "stderr",
          "text": [
            "The `seen_tokens` attribute is deprecated and will be removed in v4.41. Use the `cache_position` model input instead.\n",
            "`get_max_cache()` is deprecated for all Cache classes. Use `get_max_cache_shape()` instead. Calling `get_max_cache()` will raise error from v4.48\n",
            "WARNING:transformers_modules.microsoft.Phi-3-mini-4k-instruct.0a67737cc96d2554230f90338b163bc6380a2a85.modeling_phi3:You are not running the flash-attention implementation, expect numerical differences.\n"
          ]
        },
        {
          "output_type": "execute_result",
          "data": {
            "text/plain": [
              "[{'generated_text': ' Why did the chicken join the band? Because it had the drumsticks!'}]"
            ]
          },
          "metadata": {},
          "execution_count": 5
        }
      ],
      "source": [
        "# Prompt\n",
        "# 创造一个关于鸡的有趣笑话\n",
        "messages = [\n",
        "    {\n",
        "        \"role\": \"user\",\n",
        "        \"content\": \"Create a funny joke about chickens.\"\n",
        "    }\n",
        "]\n",
        "\n",
        "# Generate the output\n",
        "output = pipe(messages)\n",
        "output"
      ]
    },
    {
      "cell_type": "code",
      "source": [
        "output[0]"
      ],
      "metadata": {
        "id": "I6u1BJCnyDeA",
        "colab": {
          "base_uri": "https://localhost:8080/"
        },
        "outputId": "e73c2c2d-9d05-44cf-c5b0-81866f4766c3"
      },
      "execution_count": 6,
      "outputs": [
        {
          "output_type": "execute_result",
          "data": {
            "text/plain": [
              "{'generated_text': ' Why did the chicken join the band? Because it had the drumsticks!'}"
            ]
          },
          "metadata": {},
          "execution_count": 6
        }
      ]
    },
    {
      "cell_type": "code",
      "source": [
        "output[0][\"generated_text\"]"
      ],
      "metadata": {
        "id": "EPaJKWAxxgug",
        "colab": {
          "base_uri": "https://localhost:8080/",
          "height": 35
        },
        "outputId": "e0d33203-baa4-48a8-8ba2-6614ce23ad90"
      },
      "execution_count": 7,
      "outputs": [
        {
          "output_type": "execute_result",
          "data": {
            "text/plain": [
              "' Why did the chicken join the band? Because it had the drumsticks!'"
            ],
            "application/vnd.google.colaboratory.intrinsic+json": {
              "type": "string"
            }
          },
          "metadata": {},
          "execution_count": 7
        }
      ]
    },
    {
      "cell_type": "markdown",
      "source": [
        "## Apply prompt template"
      ],
      "metadata": {
        "id": "2BNNSmNWyURk"
      }
    },
    {
      "cell_type": "code",
      "execution_count": 8,
      "metadata": {
        "id": "YOGpAY8w4odt",
        "colab": {
          "base_uri": "https://localhost:8080/",
          "height": 35
        },
        "outputId": "1d230e30-195b-46a4-9e91-30d3541f6d6e"
      },
      "outputs": [
        {
          "output_type": "execute_result",
          "data": {
            "text/plain": [
              "'<|user|>\\nCreate a funny joke about chickens.<|end|>\\n<|endoftext|>'"
            ],
            "application/vnd.google.colaboratory.intrinsic+json": {
              "type": "string"
            }
          },
          "metadata": {},
          "execution_count": 8
        }
      ],
      "source": [
        "# Apply prompt template\n",
        "# 创造一个关于鸡的有趣笑话\n",
        "messages = [\n",
        "    {\n",
        "        \"role\": \"user\",\n",
        "        \"content\": \"Create a funny joke about chickens.\"\n",
        "    }\n",
        "]\n",
        "prompt = pipe.tokenizer.apply_chat_template(messages, tokenize=False)\n",
        "prompt"
      ]
    },
    {
      "cell_type": "markdown",
      "source": [
        "## Using a high temperature"
      ],
      "metadata": {
        "id": "5uEEl5syyjS-"
      }
    },
    {
      "cell_type": "code",
      "execution_count": 9,
      "metadata": {
        "id": "eLd_XXaR3i04",
        "colab": {
          "base_uri": "https://localhost:8080/"
        },
        "outputId": "1b6cb431-8a8b-4dab-8979-744bf8b08314"
      },
      "outputs": [
        {
          "output_type": "execute_result",
          "data": {
            "text/plain": [
              "[{'generated_text': ' Why don\\'t chickens play piano in the barnyard? Because they can\\'t find no \"key\" to \"peck\" in the right \"time\" and \"key\"!'}]"
            ]
          },
          "metadata": {},
          "execution_count": 9
        }
      ],
      "source": [
        "# Using a high temperature\n",
        "# 创造一个关于鸡的有趣笑话\n",
        "messages = [\n",
        "    {\n",
        "        \"role\": \"user\",\n",
        "        \"content\": \"Create a funny joke about chickens.\"\n",
        "    }\n",
        "]\n",
        "output = pipe(messages, do_sample=True, temperature=1)\n",
        "output"
      ]
    },
    {
      "cell_type": "code",
      "source": [
        "output[0]"
      ],
      "metadata": {
        "id": "BaTTT8PMyph5",
        "colab": {
          "base_uri": "https://localhost:8080/"
        },
        "outputId": "26ff4176-0bbb-4c59-9f2a-1864a2a91cab"
      },
      "execution_count": 10,
      "outputs": [
        {
          "output_type": "execute_result",
          "data": {
            "text/plain": [
              "{'generated_text': ' Why don\\'t chickens play piano in the barnyard? Because they can\\'t find no \"key\" to \"peck\" in the right \"time\" and \"key\"!'}"
            ]
          },
          "metadata": {},
          "execution_count": 10
        }
      ]
    },
    {
      "cell_type": "code",
      "source": [
        "output[0][\"generated_text\"]"
      ],
      "metadata": {
        "id": "AfjECxWIyplL",
        "colab": {
          "base_uri": "https://localhost:8080/",
          "height": 53
        },
        "outputId": "7ab91cea-102c-4db7-e50f-1d4b9eaf6888"
      },
      "execution_count": 11,
      "outputs": [
        {
          "output_type": "execute_result",
          "data": {
            "text/plain": [
              "' Why don\\'t chickens play piano in the barnyard? Because they can\\'t find no \"key\" to \"peck\" in the right \"time\" and \"key\"!'"
            ],
            "application/vnd.google.colaboratory.intrinsic+json": {
              "type": "string"
            }
          },
          "metadata": {},
          "execution_count": 11
        }
      ]
    },
    {
      "cell_type": "markdown",
      "source": [
        "## Using a high top_p"
      ],
      "metadata": {
        "id": "fiZbPkdPy15M"
      }
    },
    {
      "cell_type": "code",
      "execution_count": 12,
      "metadata": {
        "id": "sz61Fvtk580U",
        "colab": {
          "base_uri": "https://localhost:8080/"
        },
        "outputId": "2dc63efa-8bf2-4252-9f2a-1f716cd1b3ed"
      },
      "outputs": [
        {
          "output_type": "stream",
          "name": "stdout",
          "text": [
            "\n"
          ]
        }
      ],
      "source": [
        "# Using a high top_p\n",
        "# 创造一个关于鸡的有趣笑话\n",
        "messages = [\n",
        "    {\n",
        "        \"role\": \"user\",\n",
        "        \"content\": \"Create a funny joke about chickens.\"\n",
        "    }\n",
        "]\n",
        "output = pipe(messages, do_sample=True, top_p=1)\n",
        "output\n",
        "print()"
      ]
    },
    {
      "cell_type": "code",
      "source": [
        "output[0]"
      ],
      "metadata": {
        "id": "c7s9YrsGy4n0",
        "colab": {
          "base_uri": "https://localhost:8080/"
        },
        "outputId": "c2007b6a-1382-4f10-c4cb-1c24bea1308c"
      },
      "execution_count": 13,
      "outputs": [
        {
          "output_type": "execute_result",
          "data": {
            "text/plain": [
              "{'generated_text': ' Why do chickens have great grammar? Wish they could write better, because they always think *eggs* are a great beginning to their sentences!'}"
            ]
          },
          "metadata": {},
          "execution_count": 13
        }
      ]
    },
    {
      "cell_type": "code",
      "source": [
        "output[0][\"generated_text\"]"
      ],
      "metadata": {
        "id": "WYqePfUwy4q6",
        "colab": {
          "base_uri": "https://localhost:8080/",
          "height": 53
        },
        "outputId": "14dd0f50-da15-484e-98c1-253a6ffa4cf7"
      },
      "execution_count": 14,
      "outputs": [
        {
          "output_type": "execute_result",
          "data": {
            "text/plain": [
              "' Why do chickens have great grammar? Wish they could write better, because they always think *eggs* are a great beginning to their sentences!'"
            ],
            "application/vnd.google.colaboratory.intrinsic+json": {
              "type": "string"
            }
          },
          "metadata": {},
          "execution_count": 14
        }
      ]
    },
    {
      "cell_type": "markdown",
      "metadata": {
        "id": "K7oqc_Qj2008"
      },
      "source": [
        "# Intro to Prompt Engineering\n",
        "\n",
        "## The Basic Ingredients of a Prompt\n",
        "\n",
        "# Advanced Prompt Engineering\n",
        "\n",
        "## Complex Prompt"
      ]
    },
    {
      "cell_type": "code",
      "execution_count": 15,
      "metadata": {
        "id": "uEQ9ZnSH73yP",
        "colab": {
          "base_uri": "https://localhost:8080/",
          "height": 214
        },
        "outputId": "4c8fcc84-cd4d-4a1d-fd54-480e7eef3379"
      },
      "outputs": [
        {
          "output_type": "execute_result",
          "data": {
            "text/plain": [
              "\"You are an expert in Large Language models. You excel at breaking down complex papers into digestible summaries.\\nSummarize the key findings of the paper provided.\\nYour summary should extract the most crucial points that can help researchers quickly understand the most vital information of the paper.\\nCreate a bullet-point summary that outlines the method. Follow this up with a concise paragraph that encapsulates the main results.\\nThe summary is designed for busy researchers that quickly need to grasp the newest trends in Large Language Models.\\nThe tone should be professional and clear.\\nText to summarize: In the previous post, we looked at Attention – a ubiquitous method in modern deep learning models. Attention is a concept that helped improve the performance of neural machine translation applications. In this post, we will look at The Transformer – a model that uses attention to boost the speed with which these models can be trained. The Transformer outperforms the Google Neural Machine Translation model in specific tasks. The biggest benefit, however, comes from how The Transformer lends itself to parallelization. It is in fact Google Cloud’s recommendation to use The Transformer as a reference model to use their Cloud TPU offering. So let’s try to break the model apart and look at how it functions.\\nThe Transformer was proposed in the paper Attention is All You Need. A TensorFlow implementation of it is available as a part of the Tensor2Tensor package. Harvard’s NLP group created a guide annotating the paper with PyTorch implementation. In this post, we will attempt to oversimplify things a bit and introduce the concepts one by one to hopefully make it easier to understand to people without in-depth knowledge of the subject matter.\\nLet’s begin by looking at the model as a single black box. In a machine translation application, it would take a sentence in one language, and output its translation in another.\\nPopping open that Optimus Prime goodness, we see an encoding component, a decoding component, and connections between them.\\nThe encoding component is a stack of encoders (the paper stacks six of them on top of each other – there’s nothing magical about the number six, one can definitely experiment with other arrangements). The decoding component is a stack of decoders of the same number.\\nThe encoders are all identical in structure (yet they do not share weights). Each one is broken down into two sub-layers:\\nThe encoder’s inputs first flow through a self-attention layer – a layer that helps the encoder look at other words in the input sentence as it encodes a specific word. We’ll look closer at self-attention later in the post.\\nThe outputs of the self-attention layer are fed to a feed-forward neural network. The exact same feed-forward network is independently applied to each position.\\nThe decoder has both those layers, but between them is an attention layer that helps the decoder focus on relevant parts of the input sentence (similar what attention does in seq2seq models).\\nNow that we’ve seen the major components of the model, let’s start to look at the various vectors/tensors and how they flow between these components to turn the input of a trained model into an output.\\nAs is the case in NLP applications in general, we begin by turning each input word into a vector using an embedding algorithm.\\nEach word is embedded into a vector of size 512. We'll represent those vectors with these simple boxes.\\nThe embedding only happens in the bottom-most encoder. The abstraction that is common to all the encoders is that they receive a list of vectors each of the size 512 – In the bottom encoder that would be the word embeddings, but in other encoders, it would be the output of the encoder that’s directly below. The size of this list is hyperparameter we can set – basically it would be the length of the longest sentence in our training dataset.\\nAfter embedding the words in our input sequence, each of them flows through each of the two layers of the encoder.\\nHere we begin to see one key property of the Transformer, which is that the word in each position flows through its own path in the encoder. There are dependencies between these paths in the self-attention layer. The feed-forward layer does not have those dependencies, however, and thus the various paths can be executed in parallel while flowing through the feed-forward layer.\\nNext, we’ll switch up the example to a shorter sentence and we’ll look at what happens in each sub-layer of the encoder.\\nNow We’re Encoding!\\nAs we’ve mentioned already, an encoder receives a list of vectors as input. It processes this list by passing these vectors into a ‘self-attention’ layer, then into a feed-forward neural network, then sends out the output upwards to the next encoder.\\n\""
            ],
            "application/vnd.google.colaboratory.intrinsic+json": {
              "type": "string"
            }
          },
          "metadata": {},
          "execution_count": 15
        }
      ],
      "source": [
        "# Text to summarize which we stole from https://jalammar.github.io/illustrated-transformer/ ;)\n",
        "\"\"\"\n",
        "在上一篇文章中，我们研究了注意力机制——现代深度学习模型中一种普遍使用的方法。注意力机制这一概念有助于提高神经机器翻译应用程序的性能。在这篇文章中，我们将研究 Transformer——一种使用注意力机制来提高这些模型训练速度的模型。在特定任务中，Transformer 的表现优于 Google 神经机器翻译模型。然而，最大的好处来自于 Transformer 如何适合并行化。事实上，Google Cloud 建议使用 Transformer 作为参考模型来使用他们的 Cloud TPU 产品。所以让我们试着分解这个模型，看看它是如何运作的。Transformer 是在论文《注意力就是你所需要的一切》中提出的。它的 TensorFlow 实现作为 Tensor2Tensor 包的一部分提供。哈佛大学的 NLP 小组创建了一个指南，使用 PyTorch 实现注释了这篇论文。在这篇文章中，我们将尝试将事情稍微简化一点，并逐一介绍概念，希望能够让没有深入了解该主题的人更容易理解。\n",
        "让我们首先将模型视为一个黑匣子。在机器翻译应用程序中，它会接受一种语言的句子，然后输出另一种语言的翻译。\n",
        "打开擎天柱的精华，我们会看到一个编码组件、一个解码组件以及它们之间的连接。\n",
        "编码组件是一堆编码器（论文中将六个编码器堆叠在一起——六个并没有什么神奇之处，人们绝对可以尝试其他排列）。解码组件是一堆相同数量的解码器。\n",
        "编码器的结构完全相同（但它们不共享权重）。每个编码器都分为两个子层：\n",
        "编码器的输入首先流经一个自注意力层——该层可帮助编码器在编码特定单词时查看输入句子中的其他单词。我们将在后面的文章中更深入地讨论自注意力。\n",
        "自注意力层的输出被馈送到前馈神经网络。完全相同的前馈网络独立应用于每个位置。\n",
        "解码器具有这两个层，但它们之间是一个注意力层，可帮助解码器关注输入句子的相关部分（类似于注意力在 seq2seq 模型中的作用）。\n",
        "现在我们已经了解了模型的主要组成部分，让我们开始研究各种向量/张量以及它们如何在这些组件之间流动以将训练模型的输入转换为输出。\n",
        "与一般的 NLP 应用程序中的情况一样，我们首先使用嵌入算法将每个输入词转换为向量。\n",
        "每个词都嵌入到大小为 512 的向量中。我们将用这些简单的框表示这些向量。\n",
        "嵌入仅发生在最底部的编码器中。所有编码器的共同抽象是它们接收一个向量列表，每个向量的大小为 512 – 在底部编码器中，这将是单词嵌入，但在其他编码器中，它将是直接位于下方的编码器的输出。这个列表的大小是我们可以设置的超参数 – 基本上它将是我们训练数据集中最长句子的长度。\n",
        "在将单词嵌入到我们的输入序列中后，每个单词都会流经编码器的两层中的每一层。\n",
        "在这里，我们开始看到 Transformer 的一个关键属性，即每个位置的单词在编码器中流经自己的路径。在自注意力层中，这些路径之间存在依赖关系。然而，前馈层没有这些依赖关系，因此各种路径可以在流经前馈层时并行执行。\n",
        "接下来，我们将示例切换到较短的句子，并查看编码器的每个子层中发生了什么。\n",
        "现在我们开始编码！\n",
        "正如我们已经提到的，编码器接收向量列表作为输入。它通过将这些向量传递到“自我注意”层，然后传递到前馈神经网络来处理此列表，然后将输出向上发送到下一个编码器。\n",
        "\"\"\"\n",
        "text = \"\"\"In the previous post, we looked at Attention – a ubiquitous method in modern deep learning models. Attention is a concept that helped improve the performance of neural machine translation applications. In this post, we will look at The Transformer – a model that uses attention to boost the speed with which these models can be trained. The Transformer outperforms the Google Neural Machine Translation model in specific tasks. The biggest benefit, however, comes from how The Transformer lends itself to parallelization. It is in fact Google Cloud’s recommendation to use The Transformer as a reference model to use their Cloud TPU offering. So let’s try to break the model apart and look at how it functions.\n",
        "The Transformer was proposed in the paper Attention is All You Need. A TensorFlow implementation of it is available as a part of the Tensor2Tensor package. Harvard’s NLP group created a guide annotating the paper with PyTorch implementation. In this post, we will attempt to oversimplify things a bit and introduce the concepts one by one to hopefully make it easier to understand to people without in-depth knowledge of the subject matter.\n",
        "Let’s begin by looking at the model as a single black box. In a machine translation application, it would take a sentence in one language, and output its translation in another.\n",
        "Popping open that Optimus Prime goodness, we see an encoding component, a decoding component, and connections between them.\n",
        "The encoding component is a stack of encoders (the paper stacks six of them on top of each other – there’s nothing magical about the number six, one can definitely experiment with other arrangements). The decoding component is a stack of decoders of the same number.\n",
        "The encoders are all identical in structure (yet they do not share weights). Each one is broken down into two sub-layers:\n",
        "The encoder’s inputs first flow through a self-attention layer – a layer that helps the encoder look at other words in the input sentence as it encodes a specific word. We’ll look closer at self-attention later in the post.\n",
        "The outputs of the self-attention layer are fed to a feed-forward neural network. The exact same feed-forward network is independently applied to each position.\n",
        "The decoder has both those layers, but between them is an attention layer that helps the decoder focus on relevant parts of the input sentence (similar what attention does in seq2seq models).\n",
        "Now that we’ve seen the major components of the model, let’s start to look at the various vectors/tensors and how they flow between these components to turn the input of a trained model into an output.\n",
        "As is the case in NLP applications in general, we begin by turning each input word into a vector using an embedding algorithm.\n",
        "Each word is embedded into a vector of size 512. We'll represent those vectors with these simple boxes.\n",
        "The embedding only happens in the bottom-most encoder. The abstraction that is common to all the encoders is that they receive a list of vectors each of the size 512 – In the bottom encoder that would be the word embeddings, but in other encoders, it would be the output of the encoder that’s directly below. The size of this list is hyperparameter we can set – basically it would be the length of the longest sentence in our training dataset.\n",
        "After embedding the words in our input sequence, each of them flows through each of the two layers of the encoder.\n",
        "Here we begin to see one key property of the Transformer, which is that the word in each position flows through its own path in the encoder. There are dependencies between these paths in the self-attention layer. The feed-forward layer does not have those dependencies, however, and thus the various paths can be executed in parallel while flowing through the feed-forward layer.\n",
        "Next, we’ll switch up the example to a shorter sentence and we’ll look at what happens in each sub-layer of the encoder.\n",
        "Now We’re Encoding!\n",
        "As we’ve mentioned already, an encoder receives a list of vectors as input. It processes this list by passing these vectors into a ‘self-attention’ layer, then into a feed-forward neural network, then sends out the output upwards to the next encoder.\n",
        "\"\"\"\n",
        "\n",
        "# Prompt components\n",
        "# 角色：您是大型语言模型方面的专家。您擅长将复杂的论文分解为易于理解的摘要。\n",
        "persona = \"You are an expert in Large Language models. You excel at breaking down complex papers into digestible summaries.\\n\"\n",
        "# 说明：总结本文的主要发现。\n",
        "instruction = \"Summarize the key findings of the paper provided.\\n\"\n",
        "# 上下文：你的摘要应该提取最重要的要点，以帮助研究人员快速了解论文中最重要的信息。\n",
        "context = \"Your summary should extract the most crucial points that can help researchers quickly understand the most vital information of the paper.\\n\"\n",
        "# 数据格式：创建一个要点摘要，概述该方法。随后用简洁的段落概括主要结果。\n",
        "data_format = \"Create a bullet-point summary that outlines the method. Follow this up with a concise paragraph that encapsulates the main results.\\n\"\n",
        "# 受众：该摘要专门为需要快速掌握大型语言模型最新趋势的忙碌研究人员而设计。\n",
        "audience = \"The summary is designed for busy researchers that quickly need to grasp the newest trends in Large Language Models.\\n\"\n",
        "# 语气：语气要专业、清晰。\n",
        "tone = \"The tone should be professional and clear.\\n\"\n",
        "\n",
        "# text = \"MY TEXT TO SUMMARIZE\"  # Replace with your own text to summarize\n",
        "data = f\"Text to summarize: {text}\"\n",
        "\n",
        "# The full prompt - remove and add pieces to view its impact on the generated output\n",
        "query = persona + instruction + context + data_format + audience + tone + data\n",
        "query"
      ]
    },
    {
      "cell_type": "code",
      "execution_count": 16,
      "metadata": {
        "id": "Y8hbXm9R-sr0",
        "colab": {
          "base_uri": "https://localhost:8080/",
          "height": 214
        },
        "outputId": "22ed614b-ee22-4f00-ab0d-3dee4c726ac1"
      },
      "outputs": [
        {
          "output_type": "execute_result",
          "data": {
            "text/plain": [
              "\"<|user|>\\nYou are an expert in Large Language models. You excel at breaking down complex papers into digestible summaries.\\nSummarize the key findings of the paper provided.\\nYour summary should extract the most crucial points that can help researchers quickly understand the most vital information of the paper.\\nCreate a bullet-point summary that outlines the method. Follow this up with a concise paragraph that encapsulates the main results.\\nThe summary is designed for busy researchers that quickly need to grasp the newest trends in Large Language Models.\\nThe tone should be professional and clear.\\nText to summarize: In the previous post, we looked at Attention – a ubiquitous method in modern deep learning models. Attention is a concept that helped improve the performance of neural machine translation applications. In this post, we will look at The Transformer – a model that uses attention to boost the speed with which these models can be trained. The Transformer outperforms the Google Neural Machine Translation model in specific tasks. The biggest benefit, however, comes from how The Transformer lends itself to parallelization. It is in fact Google Cloud’s recommendation to use The Transformer as a reference model to use their Cloud TPU offering. So let’s try to break the model apart and look at how it functions.\\nThe Transformer was proposed in the paper Attention is All You Need. A TensorFlow implementation of it is available as a part of the Tensor2Tensor package. Harvard’s NLP group created a guide annotating the paper with PyTorch implementation. In this post, we will attempt to oversimplify things a bit and introduce the concepts one by one to hopefully make it easier to understand to people without in-depth knowledge of the subject matter.\\nLet’s begin by looking at the model as a single black box. In a machine translation application, it would take a sentence in one language, and output its translation in another.\\nPopping open that Optimus Prime goodness, we see an encoding component, a decoding component, and connections between them.\\nThe encoding component is a stack of encoders (the paper stacks six of them on top of each other – there’s nothing magical about the number six, one can definitely experiment with other arrangements). The decoding component is a stack of decoders of the same number.\\nThe encoders are all identical in structure (yet they do not share weights). Each one is broken down into two sub-layers:\\nThe encoder’s inputs first flow through a self-attention layer – a layer that helps the encoder look at other words in the input sentence as it encodes a specific word. We’ll look closer at self-attention later in the post.\\nThe outputs of the self-attention layer are fed to a feed-forward neural network. The exact same feed-forward network is independently applied to each position.\\nThe decoder has both those layers, but between them is an attention layer that helps the decoder focus on relevant parts of the input sentence (similar what attention does in seq2seq models).\\nNow that we’ve seen the major components of the model, let’s start to look at the various vectors/tensors and how they flow between these components to turn the input of a trained model into an output.\\nAs is the case in NLP applications in general, we begin by turning each input word into a vector using an embedding algorithm.\\nEach word is embedded into a vector of size 512. We'll represent those vectors with these simple boxes.\\nThe embedding only happens in the bottom-most encoder. The abstraction that is common to all the encoders is that they receive a list of vectors each of the size 512 – In the bottom encoder that would be the word embeddings, but in other encoders, it would be the output of the encoder that’s directly below. The size of this list is hyperparameter we can set – basically it would be the length of the longest sentence in our training dataset.\\nAfter embedding the words in our input sequence, each of them flows through each of the two layers of the encoder.\\nHere we begin to see one key property of the Transformer, which is that the word in each position flows through its own path in the encoder. There are dependencies between these paths in the self-attention layer. The feed-forward layer does not have those dependencies, however, and thus the various paths can be executed in parallel while flowing through the feed-forward layer.\\nNext, we’ll switch up the example to a shorter sentence and we’ll look at what happens in each sub-layer of the encoder.\\nNow We’re Encoding!\\nAs we’ve mentioned already, an encoder receives a list of vectors as input. It processes this list by passing these vectors into a ‘self-attention’ layer, then into a feed-forward neural network, then sends out the output upwards to the next encoder.\\n<|end|>\\n<|endoftext|>\""
            ],
            "application/vnd.google.colaboratory.intrinsic+json": {
              "type": "string"
            }
          },
          "metadata": {},
          "execution_count": 16
        }
      ],
      "source": [
        "messages = [\n",
        "    {\"role\": \"user\", \"content\": query}\n",
        "]\n",
        "\n",
        "# prompt = pipe.tokenizer.apply_chat_template(messages, tokenize=False)\n",
        "prompt = tokenizer.apply_chat_template(messages, tokenize=False)\n",
        "prompt"
      ]
    },
    {
      "cell_type": "code",
      "execution_count": 17,
      "metadata": {
        "id": "-jO_uqNMTiWv",
        "colab": {
          "base_uri": "https://localhost:8080/"
        },
        "outputId": "a1b7ff51-10ef-47d1-a1d0-5f45f05d9cbb"
      },
      "outputs": [
        {
          "output_type": "execute_result",
          "data": {
            "text/plain": [
              "[{'generated_text': ' - The Transformer model, introduced in the paper \"Attention is All You Need,\" utilizes attention mechanisms to enhance the training speed of deep learning models, particularly in neural machine translation.\\n- The model consists of an encoding component and a decoding component, each with multiple identical sub-layers. The encoding component includes self-attention layers and feed-forward neural networks, while the decoding component incorporates attention layers that focus on relevant parts of the input sentence.\\n- The Transformer model is highly parallelizable, making it a preferred choice for Google Cloud\\'s TPU offering.\\n- The model processes input sequences by converting each word into a vector using an embedding algorithm, with the size of the vector being a hyperparameter.\\n- The input vectors flow through the encoder\\'s sub-layers, with dependencies between paths in the self-attention layer and independent execution in the feed-forward layer.\\n- The Transformer model has shown superior performance in specific tasks compared to the Google Neural Machine Translation model.'}]"
            ]
          },
          "metadata": {},
          "execution_count": 17
        }
      ],
      "source": [
        "# Generate the output\n",
        "outputs = pipe(messages)\n",
        "outputs"
      ]
    },
    {
      "cell_type": "code",
      "source": [
        "outputs[0]"
      ],
      "metadata": {
        "id": "iE9w8Zv21cns",
        "colab": {
          "base_uri": "https://localhost:8080/"
        },
        "outputId": "a05a9979-6418-4b36-d31b-beea92538f53"
      },
      "execution_count": 18,
      "outputs": [
        {
          "output_type": "execute_result",
          "data": {
            "text/plain": [
              "{'generated_text': ' - The Transformer model, introduced in the paper \"Attention is All You Need,\" utilizes attention mechanisms to enhance the training speed of deep learning models, particularly in neural machine translation.\\n- The model consists of an encoding component and a decoding component, each with multiple identical sub-layers. The encoding component includes self-attention layers and feed-forward neural networks, while the decoding component incorporates attention layers that focus on relevant parts of the input sentence.\\n- The Transformer model is highly parallelizable, making it a preferred choice for Google Cloud\\'s TPU offering.\\n- The model processes input sequences by converting each word into a vector using an embedding algorithm, with the size of the vector being a hyperparameter.\\n- The input vectors flow through the encoder\\'s sub-layers, with dependencies between paths in the self-attention layer and independent execution in the feed-forward layer.\\n- The Transformer model has shown superior performance in specific tasks compared to the Google Neural Machine Translation model.'}"
            ]
          },
          "metadata": {},
          "execution_count": 18
        }
      ]
    },
    {
      "cell_type": "code",
      "source": [
        "outputs[0][\"generated_text\"]"
      ],
      "metadata": {
        "id": "XY4VIZ4P1cq8",
        "colab": {
          "base_uri": "https://localhost:8080/",
          "height": 214
        },
        "outputId": "307ed6e1-a1d3-4bd5-f27d-e858eeb7ccec"
      },
      "execution_count": 19,
      "outputs": [
        {
          "output_type": "execute_result",
          "data": {
            "text/plain": [
              "' - The Transformer model, introduced in the paper \"Attention is All You Need,\" utilizes attention mechanisms to enhance the training speed of deep learning models, particularly in neural machine translation.\\n- The model consists of an encoding component and a decoding component, each with multiple identical sub-layers. The encoding component includes self-attention layers and feed-forward neural networks, while the decoding component incorporates attention layers that focus on relevant parts of the input sentence.\\n- The Transformer model is highly parallelizable, making it a preferred choice for Google Cloud\\'s TPU offering.\\n- The model processes input sequences by converting each word into a vector using an embedding algorithm, with the size of the vector being a hyperparameter.\\n- The input vectors flow through the encoder\\'s sub-layers, with dependencies between paths in the self-attention layer and independent execution in the feed-forward layer.\\n- The Transformer model has shown superior performance in specific tasks compared to the Google Neural Machine Translation model.'"
            ],
            "application/vnd.google.colaboratory.intrinsic+json": {
              "type": "string"
            }
          },
          "metadata": {},
          "execution_count": 19
        }
      ]
    },
    {
      "cell_type": "markdown",
      "metadata": {
        "id": "Ol5aCUfM9bjM"
      },
      "source": [
        "## In-Context Learning: Providing Examples"
      ]
    },
    {
      "cell_type": "code",
      "execution_count": 20,
      "metadata": {
        "id": "Ne92BtrXU8k8",
        "colab": {
          "base_uri": "https://localhost:8080/",
          "height": 89
        },
        "outputId": "54fbb6e3-9b8a-4dfa-d9f9-d47ec27be86e"
      },
      "outputs": [
        {
          "output_type": "execute_result",
          "data": {
            "text/plain": [
              "\"<|user|>\\nA 'Gigamuru' is a type of Japanese musical instrument. An example of a sentence that uses the word Gigamuru is:<|end|>\\n<|assistant|>\\nI have a Gigamuru that my uncle gave me as a gift. I love to play it at home.<|end|>\\n<|user|>\\nTo 'screeg' something is to swing a sword at it. An example of a sentence that uses the word screeg is:<|end|>\\n<|endoftext|>\""
            ],
            "application/vnd.google.colaboratory.intrinsic+json": {
              "type": "string"
            }
          },
          "metadata": {},
          "execution_count": 20
        }
      ],
      "source": [
        "# Use a single example of using the made-up word in a sentence\n",
        "one_shot_prompt = [\n",
        "    {\n",
        "        \"role\": \"user\",\n",
        "        # “Gigamuru” 是一种日本乐器。使用 Gigamuru 一词的句子示例如下：\n",
        "        \"content\": \"A 'Gigamuru' is a type of Japanese musical instrument. An example of a sentence that uses the word Gigamuru is:\"\n",
        "    },\n",
        "    {\n",
        "        # 助手\n",
        "        \"role\": \"assistant\",\n",
        "        # 我有一把 Gigamuru，是我叔叔送给我的礼物。我喜欢在家弹奏它。\n",
        "        \"content\": \"I have a Gigamuru that my uncle gave me as a gift. I love to play it at home.\"\n",
        "    },\n",
        "    {\n",
        "        \"role\": \"user\",\n",
        "        # “screeg” 某物就是用剑攻击它。使用 screeg 一词的句子示例如下\n",
        "        \"content\": \"To 'screeg' something is to swing a sword at it. An example of a sentence that uses the word screeg is:\"\n",
        "    }\n",
        "]\n",
        "prompt = tokenizer.apply_chat_template(one_shot_prompt, tokenize=False)\n",
        "prompt"
      ]
    },
    {
      "cell_type": "code",
      "execution_count": 21,
      "metadata": {
        "id": "Ox3LeHW5JfaD",
        "colab": {
          "base_uri": "https://localhost:8080/"
        },
        "outputId": "a15ad691-093a-43e3-953a-aba0a4954eae"
      },
      "outputs": [
        {
          "output_type": "execute_result",
          "data": {
            "text/plain": [
              "[{'generated_text': ' During the medieval reenactment, the knight skillfully screeged the wooden target, impressing the onlookers with his prowess.'}]"
            ]
          },
          "metadata": {},
          "execution_count": 21
        }
      ],
      "source": [
        "# Generate the output\n",
        "outputs = pipe(one_shot_prompt)\n",
        "outputs"
      ]
    },
    {
      "cell_type": "code",
      "source": [
        "outputs[0]"
      ],
      "metadata": {
        "id": "6-iGU46RO90Q",
        "colab": {
          "base_uri": "https://localhost:8080/"
        },
        "outputId": "075a7015-11a2-49ca-c225-a57967ae5e0f"
      },
      "execution_count": 22,
      "outputs": [
        {
          "output_type": "execute_result",
          "data": {
            "text/plain": [
              "{'generated_text': ' During the medieval reenactment, the knight skillfully screeged the wooden target, impressing the onlookers with his prowess.'}"
            ]
          },
          "metadata": {},
          "execution_count": 22
        }
      ]
    },
    {
      "cell_type": "code",
      "source": [
        "outputs[0][\"generated_text\"]"
      ],
      "metadata": {
        "id": "UDRnGHoRO93p",
        "colab": {
          "base_uri": "https://localhost:8080/",
          "height": 53
        },
        "outputId": "5eee5a05-f718-496c-8ffd-905bcd37cf04"
      },
      "execution_count": 23,
      "outputs": [
        {
          "output_type": "execute_result",
          "data": {
            "text/plain": [
              "' During the medieval reenactment, the knight skillfully screeged the wooden target, impressing the onlookers with his prowess.'"
            ],
            "application/vnd.google.colaboratory.intrinsic+json": {
              "type": "string"
            }
          },
          "metadata": {},
          "execution_count": 23
        }
      ]
    },
    {
      "cell_type": "markdown",
      "metadata": {
        "id": "cugB9temhHJ0"
      },
      "source": [
        "## Chain Prompting: Breaking up the Problem\n"
      ]
    },
    {
      "cell_type": "code",
      "execution_count": 24,
      "metadata": {
        "id": "VXYuFn9eG2t4",
        "colab": {
          "base_uri": "https://localhost:8080/"
        },
        "outputId": "0a256a03-2203-409b-bdeb-3528b869f66e"
      },
      "outputs": [
        {
          "output_type": "execute_result",
          "data": {
            "text/plain": [
              "[{'generated_text': ' Name: ChatSage\\nSlogan: \"Unleashing the power of AI to enhance your conversations.\"'}]"
            ]
          },
          "metadata": {},
          "execution_count": 24
        }
      ],
      "source": [
        "# Create name and slogan for a product\n",
        "product_prompt = [\n",
        "    {\n",
        "        \"role\": \"user\",\n",
        "        # 为利用 LLM 的聊天机器人创建名称和口号。\n",
        "        \"content\": \"Create a name and slogan for a chatbot that leverages LLMs.\"\n",
        "    }\n",
        "]\n",
        "outputs = pipe(product_prompt)\n",
        "outputs"
      ]
    },
    {
      "cell_type": "code",
      "source": [
        "outputs[0]"
      ],
      "metadata": {
        "id": "sS4XbYESPbKs",
        "colab": {
          "base_uri": "https://localhost:8080/"
        },
        "outputId": "41b099b9-6baf-49c3-9e88-dc53ade67750"
      },
      "execution_count": 25,
      "outputs": [
        {
          "output_type": "execute_result",
          "data": {
            "text/plain": [
              "{'generated_text': ' Name: ChatSage\\nSlogan: \"Unleashing the power of AI to enhance your conversations.\"'}"
            ]
          },
          "metadata": {},
          "execution_count": 25
        }
      ]
    },
    {
      "cell_type": "code",
      "source": [
        "outputs[0][\"generated_text\"]"
      ],
      "metadata": {
        "id": "o3EZppzSPbOU",
        "colab": {
          "base_uri": "https://localhost:8080/",
          "height": 35
        },
        "outputId": "5f59cf5b-7d63-4dfd-9ebe-2bc353d808d3"
      },
      "execution_count": 26,
      "outputs": [
        {
          "output_type": "execute_result",
          "data": {
            "text/plain": [
              "' Name: ChatSage\\nSlogan: \"Unleashing the power of AI to enhance your conversations.\"'"
            ],
            "application/vnd.google.colaboratory.intrinsic+json": {
              "type": "string"
            }
          },
          "metadata": {},
          "execution_count": 26
        }
      ]
    },
    {
      "cell_type": "code",
      "source": [
        "product_description = outputs[0][\"generated_text\"]"
      ],
      "metadata": {
        "id": "x8XCW4dSPbRZ"
      },
      "execution_count": 27,
      "outputs": []
    },
    {
      "cell_type": "code",
      "execution_count": 28,
      "metadata": {
        "id": "fNYi3eDRG9Sk",
        "colab": {
          "base_uri": "https://localhost:8080/"
        },
        "outputId": "38c50a2e-e61b-4a48-c69a-a864590ade4c"
      },
      "outputs": [
        {
          "output_type": "execute_result",
          "data": {
            "text/plain": [
              "[{'generated_text': ' Introducing ChatSage, the revolutionary AI-powered tool designed to elevate your conversations to new heights. With our cutting-edge technology, we unleash the power of AI to enhance your interactions, making every conversation more engaging, insightful, and meaningful. Experience the future of communication with ChatSage today!'}]"
            ]
          },
          "metadata": {},
          "execution_count": 28
        }
      ],
      "source": [
        "# Based on a name and slogan for a product, generate a sales pitch\n",
        "sales_prompt = [\n",
        "    {\n",
        "        \"role\": \"user\",\n",
        "        # 为以下产品制作一个非常简短的销售宣传：\n",
        "        \"content\": f\"Generate a very short sales pitch for the following product: '{product_description}'\"\n",
        "    }\n",
        "]\n",
        "outputs = pipe(sales_prompt)\n",
        "outputs"
      ]
    },
    {
      "cell_type": "code",
      "source": [
        "outputs[0]"
      ],
      "metadata": {
        "id": "IeLeDVCwP_TI",
        "colab": {
          "base_uri": "https://localhost:8080/"
        },
        "outputId": "51318b59-6a1c-4eb7-8dde-8b6067554eba"
      },
      "execution_count": 29,
      "outputs": [
        {
          "output_type": "execute_result",
          "data": {
            "text/plain": [
              "{'generated_text': ' Introducing ChatSage, the revolutionary AI-powered tool designed to elevate your conversations to new heights. With our cutting-edge technology, we unleash the power of AI to enhance your interactions, making every conversation more engaging, insightful, and meaningful. Experience the future of communication with ChatSage today!'}"
            ]
          },
          "metadata": {},
          "execution_count": 29
        }
      ]
    },
    {
      "cell_type": "code",
      "source": [
        "outputs[0][\"generated_text\"]"
      ],
      "metadata": {
        "id": "GJR90AueP_Wf",
        "colab": {
          "base_uri": "https://localhost:8080/",
          "height": 89
        },
        "outputId": "61e83275-65bc-44da-d0cc-6069329dc4a5"
      },
      "execution_count": 30,
      "outputs": [
        {
          "output_type": "execute_result",
          "data": {
            "text/plain": [
              "' Introducing ChatSage, the revolutionary AI-powered tool designed to elevate your conversations to new heights. With our cutting-edge technology, we unleash the power of AI to enhance your interactions, making every conversation more engaging, insightful, and meaningful. Experience the future of communication with ChatSage today!'"
            ],
            "application/vnd.google.colaboratory.intrinsic+json": {
              "type": "string"
            }
          },
          "metadata": {},
          "execution_count": 30
        }
      ]
    },
    {
      "cell_type": "code",
      "source": [
        "# sales_pitch = outputs[0][\"generated_text\"]\n",
        "# print(sales_pitch)"
      ],
      "metadata": {
        "id": "Mu2rYv6gP_aD"
      },
      "execution_count": 31,
      "outputs": []
    },
    {
      "cell_type": "markdown",
      "metadata": {
        "id": "IL1UpiV02V5O"
      },
      "source": [
        "# Reasoning with Generative Models\n",
        "\n",
        "## Chain-of-Thought: Think Before Answering"
      ]
    },
    {
      "cell_type": "code",
      "execution_count": 32,
      "metadata": {
        "id": "TnkxKmLyHGuR",
        "colab": {
          "base_uri": "https://localhost:8080/"
        },
        "outputId": "488af144-d2a2-45f9-cc8e-df689f69f157"
      },
      "outputs": [
        {
          "output_type": "execute_result",
          "data": {
            "text/plain": [
              "[{'generated_text': ' The cafeteria started with 25 apples. They used 20 apples to make lunch, so they had 25 - 20 = 5 apples left. After buying 6 more apples, they now have 5 + 6 = 11 apples.'}]"
            ]
          },
          "metadata": {},
          "execution_count": 32
        }
      ],
      "source": [
        "# Answering without explicit reasoning\n",
        "standard_prompt = [\n",
        "    # content\": \"罗杰有 5 个网球。他又买了 2 罐网球。每罐有 3 个网球。他现在有多少个网球？\n",
        "    {\"role\": \"user\", \"content\": \"Roger has 5 tennis balls. He buys 2 more cans of tennis balls. Each can has 3 tennis balls. How many tennis balls does he have now?\"},\n",
        "    # 助理\n",
        "    {\"role\": \"assistant\", \"content\": \"11\"},\n",
        "    # content\": \"食堂有 25 个苹果。如果他们用 20 个做午餐，再买 6 个，他们有多少个苹果？\n",
        "    {\"role\": \"user\", \"content\": \"The cafeteria had 25 apples. If they used 20 to make lunch and bought 6 more, how many apples do they have?\"}\n",
        "]\n",
        "# Run generative model\n",
        "outputs = pipe(standard_prompt)\n",
        "outputs"
      ]
    },
    {
      "cell_type": "code",
      "source": [
        "outputs[0]"
      ],
      "metadata": {
        "id": "lMcZFOV7Q620",
        "colab": {
          "base_uri": "https://localhost:8080/"
        },
        "outputId": "9a0bc39d-3b6f-460e-d806-ab9dd1c31354"
      },
      "execution_count": 33,
      "outputs": [
        {
          "output_type": "execute_result",
          "data": {
            "text/plain": [
              "{'generated_text': ' The cafeteria started with 25 apples. They used 20 apples to make lunch, so they had 25 - 20 = 5 apples left. After buying 6 more apples, they now have 5 + 6 = 11 apples.'}"
            ]
          },
          "metadata": {},
          "execution_count": 33
        }
      ]
    },
    {
      "cell_type": "code",
      "source": [
        "outputs[0][\"generated_text\"]"
      ],
      "metadata": {
        "id": "dMNQ7_zWQ65-",
        "colab": {
          "base_uri": "https://localhost:8080/",
          "height": 53
        },
        "outputId": "a187c96c-1518-4301-d3e4-38a96cc79570"
      },
      "execution_count": 34,
      "outputs": [
        {
          "output_type": "execute_result",
          "data": {
            "text/plain": [
              "' The cafeteria started with 25 apples. They used 20 apples to make lunch, so they had 25 - 20 = 5 apples left. After buying 6 more apples, they now have 5 + 6 = 11 apples.'"
            ],
            "application/vnd.google.colaboratory.intrinsic+json": {
              "type": "string"
            }
          },
          "metadata": {},
          "execution_count": 34
        }
      ]
    },
    {
      "cell_type": "code",
      "execution_count": 35,
      "metadata": {
        "id": "X9jD3zPPEz_X",
        "colab": {
          "base_uri": "https://localhost:8080/"
        },
        "outputId": "a06d70ff-466e-46ee-9693-da99a9b55b21"
      },
      "outputs": [
        {
          "output_type": "execute_result",
          "data": {
            "text/plain": [
              "[{'generated_text': ' The cafeteria started with 23 apples. They used 20 apples for lunch, so they had 23 - 20 = 3 apples left. After buying 6 more apples, they now have 3 + 6 = 9 apples. The answer is 9.'}]"
            ]
          },
          "metadata": {},
          "execution_count": 35
        }
      ],
      "source": [
        "# Answering with chain-of-thought\n",
        "cot_prompt = [\n",
        "    # “内容”：“罗杰有 5 个网球。他又买了 2 罐网球。每罐有 3 个网球。他现在有多少个网球？\n",
        "    {\"role\": \"user\", \"content\": \"Roger has 5 tennis balls. He buys 2 more cans of tennis balls. Each can has 3 tennis balls. How many tennis balls does he have now?\"},\n",
        "    # 助手：罗杰一开始有 5 个网球。2 罐 3 个网球，每罐 6 个网球。5 + 6 = 11。答案是 11。\n",
        "    {\"role\": \"assistant\", \"content\": \"Roger started with 5 balls. 2 cans of 3 tennis balls each is 6 tennis balls. 5 + 6 = 11. The answer is 11.\"},\n",
        "    # 食堂有 23 个苹果。如果他们用 20 个做午餐，再买 6 个，他们有多少个苹果？\n",
        "    {\"role\": \"user\", \"content\": \"The cafeteria had 23 apples. If they used 20 to make lunch and bought 6 more, how many apples do they have?\"}\n",
        "]\n",
        "# Generate the output\n",
        "outputs = pipe(cot_prompt)\n",
        "outputs"
      ]
    },
    {
      "cell_type": "code",
      "source": [
        "outputs[0]"
      ],
      "metadata": {
        "id": "j6d_luM8RWnO",
        "colab": {
          "base_uri": "https://localhost:8080/"
        },
        "outputId": "de69ae06-0949-43a8-8265-758c847e43e3"
      },
      "execution_count": 36,
      "outputs": [
        {
          "output_type": "execute_result",
          "data": {
            "text/plain": [
              "{'generated_text': ' The cafeteria started with 23 apples. They used 20 apples for lunch, so they had 23 - 20 = 3 apples left. After buying 6 more apples, they now have 3 + 6 = 9 apples. The answer is 9.'}"
            ]
          },
          "metadata": {},
          "execution_count": 36
        }
      ]
    },
    {
      "cell_type": "code",
      "source": [
        "outputs[0][\"generated_text\"]"
      ],
      "metadata": {
        "id": "zahzpIYoRWvl",
        "colab": {
          "base_uri": "https://localhost:8080/",
          "height": 53
        },
        "outputId": "9e110d69-ad28-4b08-e182-8c6cd4f9bce4"
      },
      "execution_count": 37,
      "outputs": [
        {
          "output_type": "execute_result",
          "data": {
            "text/plain": [
              "' The cafeteria started with 23 apples. They used 20 apples for lunch, so they had 23 - 20 = 3 apples left. After buying 6 more apples, they now have 3 + 6 = 9 apples. The answer is 9.'"
            ],
            "application/vnd.google.colaboratory.intrinsic+json": {
              "type": "string"
            }
          },
          "metadata": {},
          "execution_count": 37
        }
      ]
    },
    {
      "cell_type": "markdown",
      "metadata": {
        "id": "4jVOOib72Z0P"
      },
      "source": [
        "## Zero-shot Chain-of-Thought"
      ]
    },
    {
      "cell_type": "code",
      "execution_count": 38,
      "metadata": {
        "id": "iyHWAk2XKKGt",
        "colab": {
          "base_uri": "https://localhost:8080/"
        },
        "outputId": "21d7d944-0a43-4e02-d30c-ad2efa12152c"
      },
      "outputs": [
        {
          "output_type": "execute_result",
          "data": {
            "text/plain": [
              "[{'generated_text': ' Step 1: Start with the initial number of apples in the cafeteria, which is 23.\\n\\nStep 2: Subtract the number of apples used to make lunch, which is 20.\\n23 - 20 = 3 apples remaining.\\n\\nStep 3: Add the number of apples bought, which is 6.\\n3 + 6 = 9 apples.\\n\\nSo, the cafeteria now has 9 apples.'}]"
            ]
          },
          "metadata": {},
          "execution_count": 38
        }
      ],
      "source": [
        "# Zero-shot Chain-of-Thought\n",
        "zeroshot_cot_prompt = [\n",
        "    # 食堂有23个苹果。如果他们用了20个做午餐，又买了6个，他们有多少个苹果？让我们一步一步思考。\n",
        "    {\"role\": \"user\", \"content\": \"The cafeteria had 23 apples. If they used 20 to make lunch and bought 6 more, how many apples do they have? Let's think step-by-step.\"}\n",
        "]\n",
        "\n",
        "# Generate the output\n",
        "outputs = pipe(zeroshot_cot_prompt)\n",
        "outputs"
      ]
    },
    {
      "cell_type": "code",
      "source": [
        "outputs[0]"
      ],
      "metadata": {
        "id": "pc7JWdrYRsbF",
        "colab": {
          "base_uri": "https://localhost:8080/"
        },
        "outputId": "bb35d5aa-210e-4b83-e1b5-4c6a10f12e16"
      },
      "execution_count": 39,
      "outputs": [
        {
          "output_type": "execute_result",
          "data": {
            "text/plain": [
              "{'generated_text': ' Step 1: Start with the initial number of apples in the cafeteria, which is 23.\\n\\nStep 2: Subtract the number of apples used to make lunch, which is 20.\\n23 - 20 = 3 apples remaining.\\n\\nStep 3: Add the number of apples bought, which is 6.\\n3 + 6 = 9 apples.\\n\\nSo, the cafeteria now has 9 apples.'}"
            ]
          },
          "metadata": {},
          "execution_count": 39
        }
      ]
    },
    {
      "cell_type": "code",
      "source": [
        "outputs[0][\"generated_text\"]"
      ],
      "metadata": {
        "id": "nPEMl82gRsei",
        "colab": {
          "base_uri": "https://localhost:8080/",
          "height": 89
        },
        "outputId": "1c368aec-82cf-4a86-df69-28860639a9e9"
      },
      "execution_count": 40,
      "outputs": [
        {
          "output_type": "execute_result",
          "data": {
            "text/plain": [
              "' Step 1: Start with the initial number of apples in the cafeteria, which is 23.\\n\\nStep 2: Subtract the number of apples used to make lunch, which is 20.\\n23 - 20 = 3 apples remaining.\\n\\nStep 3: Add the number of apples bought, which is 6.\\n3 + 6 = 9 apples.\\n\\nSo, the cafeteria now has 9 apples.'"
            ],
            "application/vnd.google.colaboratory.intrinsic+json": {
              "type": "string"
            }
          },
          "metadata": {},
          "execution_count": 40
        }
      ]
    },
    {
      "cell_type": "markdown",
      "metadata": {
        "id": "-3-bMVLT2ehH"
      },
      "source": [
        "## Tree-of-Thought: Exploring Intermediate Steps"
      ]
    },
    {
      "cell_type": "code",
      "execution_count": 41,
      "metadata": {
        "id": "3ZJo-4NBI1V-"
      },
      "outputs": [],
      "source": [
        "# Zero-shot Chain-of-Thought\n",
        "zeroshot_tot_prompt = [\n",
        "    # 假设有三位不同的专家在回答这个问题。所有专家都会写下他们思考的第一步，然后与小组分享。然后所有专家都会继续下一步，等等。如果任何一位专家意识到自己在任何时候错了，他们就会离开。问题是“自助餐厅有 23 个苹果。如果他们用 20 个做午餐，再买 6 个，他们有多少个苹果？”一定要讨论结果。\n",
        "    {\"role\": \"user\", \"content\": \"Imagine three different experts are answering this question. All experts will write down 1 step of their thinking, then share it with the group. Then all experts will go on to the next step, etc. If any expert realises they're wrong at any point then they leave. The question is 'The cafeteria had 23 apples. If they used 20 to make lunch and bought 6 more, how many apples do they have?' Make sure to discuss the results.\"}\n",
        "]"
      ]
    },
    {
      "cell_type": "code",
      "execution_count": 42,
      "metadata": {
        "id": "qieQ9waXLbZO",
        "colab": {
          "base_uri": "https://localhost:8080/"
        },
        "outputId": "c08962e2-acd0-4165-ca1e-d932b0409547"
      },
      "outputs": [
        {
          "output_type": "stream",
          "name": "stderr",
          "text": [
            "You seem to be using the pipelines sequentially on GPU. In order to maximize efficiency please use a dataset\n"
          ]
        },
        {
          "output_type": "execute_result",
          "data": {
            "text/plain": [
              "[{'generated_text': ' Expert 1:\\nStep 1: Start with the initial number of apples, which is 23.\\n\\nExpert 2:\\nStep 1: Subtract the number of apples used for lunch, which is 20.\\nStep 2: Add the number of apples bought, which is 6.\\n\\nExpert 3:\\nStep 1: Start with the initial number of apples, which is 23.\\nStep 2: Subtract the number of apples used for lunch, which is 20.\\nStep 3: Add the number of apples bought, which is 6.\\n\\nResults:\\nAll three experts arrived at the same answer:\\n\\nExpert 1: 23 - 20 + 6 = 9 apples\\nExpert 2: (23 - 20) + 6 = 9 apples\\nExpert 3: (23 - 20) + 6 = 9 apples\\n\\nAll three experts agree that the cafeteria has 9 apples left.'}]"
            ]
          },
          "metadata": {},
          "execution_count": 42
        }
      ],
      "source": [
        "# Generate the output\n",
        "outputs = pipe(zeroshot_tot_prompt)\n",
        "outputs"
      ]
    },
    {
      "cell_type": "code",
      "source": [
        "outputs[0]"
      ],
      "metadata": {
        "id": "-Q11WoJRR_M4",
        "colab": {
          "base_uri": "https://localhost:8080/"
        },
        "outputId": "c7da3610-97c4-4521-e2d6-22d2552d210f"
      },
      "execution_count": 43,
      "outputs": [
        {
          "output_type": "execute_result",
          "data": {
            "text/plain": [
              "{'generated_text': ' Expert 1:\\nStep 1: Start with the initial number of apples, which is 23.\\n\\nExpert 2:\\nStep 1: Subtract the number of apples used for lunch, which is 20.\\nStep 2: Add the number of apples bought, which is 6.\\n\\nExpert 3:\\nStep 1: Start with the initial number of apples, which is 23.\\nStep 2: Subtract the number of apples used for lunch, which is 20.\\nStep 3: Add the number of apples bought, which is 6.\\n\\nResults:\\nAll three experts arrived at the same answer:\\n\\nExpert 1: 23 - 20 + 6 = 9 apples\\nExpert 2: (23 - 20) + 6 = 9 apples\\nExpert 3: (23 - 20) + 6 = 9 apples\\n\\nAll three experts agree that the cafeteria has 9 apples left.'}"
            ]
          },
          "metadata": {},
          "execution_count": 43
        }
      ]
    },
    {
      "cell_type": "code",
      "source": [
        "outputs[0][\"generated_text\"]"
      ],
      "metadata": {
        "id": "lV63BytER_P9",
        "colab": {
          "base_uri": "https://localhost:8080/",
          "height": 143
        },
        "outputId": "e4c87d63-9d09-4d3e-e0d4-cb012befa6f3"
      },
      "execution_count": 44,
      "outputs": [
        {
          "output_type": "execute_result",
          "data": {
            "text/plain": [
              "' Expert 1:\\nStep 1: Start with the initial number of apples, which is 23.\\n\\nExpert 2:\\nStep 1: Subtract the number of apples used for lunch, which is 20.\\nStep 2: Add the number of apples bought, which is 6.\\n\\nExpert 3:\\nStep 1: Start with the initial number of apples, which is 23.\\nStep 2: Subtract the number of apples used for lunch, which is 20.\\nStep 3: Add the number of apples bought, which is 6.\\n\\nResults:\\nAll three experts arrived at the same answer:\\n\\nExpert 1: 23 - 20 + 6 = 9 apples\\nExpert 2: (23 - 20) + 6 = 9 apples\\nExpert 3: (23 - 20) + 6 = 9 apples\\n\\nAll three experts agree that the cafeteria has 9 apples left.'"
            ],
            "application/vnd.google.colaboratory.intrinsic+json": {
              "type": "string"
            }
          },
          "metadata": {},
          "execution_count": 44
        }
      ]
    },
    {
      "cell_type": "markdown",
      "metadata": {
        "id": "TyCw3A5GZ61D"
      },
      "source": [
        "# Output Verification\n",
        "\n",
        "## Providing Examples"
      ]
    },
    {
      "cell_type": "code",
      "execution_count": 45,
      "metadata": {
        "id": "NBc_HuJQY8sh",
        "colab": {
          "base_uri": "https://localhost:8080/"
        },
        "outputId": "993d3a3a-b0ef-48f7-e0c7-53ef4fd55b52"
      },
      "outputs": [
        {
          "output_type": "execute_result",
          "data": {
            "text/plain": [
              "[{'generated_text': ' ```json\\n{\\n  \"name\": \"Eldrin the Wise\",\\n  \"race\": \"Elf\",\\n  \"class\": \"Wizard\",\\n  \"level\": 10,\\n  \"alignment\": \"Chaotic Good\",\\n  \"strength\": 8,\\n  \"dexterity\": 14,\\n  \"constitution\": 12,\\n  \"intelligence\": 18,\\n  \"wisdom\": 16,\\n  \"charisma\": 10,\\n  \"weapon_skill\": \"Magic\",\\n  \"armor_skill\": \"Light\",\\n  \"spell_slots\": {\\n    \"cantrips\": [\"Mage Hand\", \"Detect Magic\", \"Mage Armor\", \"Prestidigitation\", \"Identify\", \"Invisibility\"],\\n    \"1st level\": [\"Fireball\", \"Magic Missile\", \"Shield\", \"Cure Wounds\", \"Detect Thoughts\", \"Charm Person\"],\\n    \"2nd level\": [\"Light\", \"Hold Person\", \"Sleep\", \"Committee\", \"Enlarge Person\", \"Teleport\"],\\n    \"3rd level\": [\"Frostbite\", \"Fog Cloud\", \"Disintegrate\", \"Dimension Door\", \"Mirror Image\", \"Misty Step\"]\\n  },\\n  \"equipment\": {\\n    \"weapon\": \"Staff of the Ancients\",\\n    \"armor\": \"Leather Armor\",\\n    \"accessories\": [\"Staff of Power\", \"Ring of Protection\", \"Boots of Speed\"]\\n  },\\n  \"background\": \"Adept\",\\n  \"personality\": \"Curious and inventive, Eldrin is always seeking new knowledge and magical secrets. He is a bit of a loner, preferring the company of books and scrolls to that of other people.\",\\n  \"appearance\": {\\n    \"hair_color\": \"Gray\",\\n    \"hair_style\": \"Long and flowing\",\\n    \"eye_color\": \"Green\",\\n    \"skin_color\": \"Light\",\\n    \"height\": \"6\\'2\\\\\"'}]"
            ]
          },
          "metadata": {},
          "execution_count": 45
        }
      ],
      "source": [
        "# Zero-shot learning: Providing no examples\n",
        "zeroshot_prompt = [\n",
        "    # 以 JSON 格式为 RPG 游戏创建角色资料。\n",
        "    {\"role\": \"user\", \"content\": \"Create a character profile for an RPG game in JSON format.\"}\n",
        "]\n",
        "\n",
        "# Generate the output\n",
        "outputs = pipe(zeroshot_prompt)\n",
        "outputs"
      ]
    },
    {
      "cell_type": "code",
      "source": [
        "outputs[0]"
      ],
      "metadata": {
        "id": "cN6nXJznSWar",
        "colab": {
          "base_uri": "https://localhost:8080/"
        },
        "outputId": "c91ccaf4-09a0-40a2-dc1c-7d1ad8dec8ab"
      },
      "execution_count": 46,
      "outputs": [
        {
          "output_type": "execute_result",
          "data": {
            "text/plain": [
              "{'generated_text': ' ```json\\n{\\n  \"name\": \"Eldrin the Wise\",\\n  \"race\": \"Elf\",\\n  \"class\": \"Wizard\",\\n  \"level\": 10,\\n  \"alignment\": \"Chaotic Good\",\\n  \"strength\": 8,\\n  \"dexterity\": 14,\\n  \"constitution\": 12,\\n  \"intelligence\": 18,\\n  \"wisdom\": 16,\\n  \"charisma\": 10,\\n  \"weapon_skill\": \"Magic\",\\n  \"armor_skill\": \"Light\",\\n  \"spell_slots\": {\\n    \"cantrips\": [\"Mage Hand\", \"Detect Magic\", \"Mage Armor\", \"Prestidigitation\", \"Identify\", \"Invisibility\"],\\n    \"1st level\": [\"Fireball\", \"Magic Missile\", \"Shield\", \"Cure Wounds\", \"Detect Thoughts\", \"Charm Person\"],\\n    \"2nd level\": [\"Light\", \"Hold Person\", \"Sleep\", \"Committee\", \"Enlarge Person\", \"Teleport\"],\\n    \"3rd level\": [\"Frostbite\", \"Fog Cloud\", \"Disintegrate\", \"Dimension Door\", \"Mirror Image\", \"Misty Step\"]\\n  },\\n  \"equipment\": {\\n    \"weapon\": \"Staff of the Ancients\",\\n    \"armor\": \"Leather Armor\",\\n    \"accessories\": [\"Staff of Power\", \"Ring of Protection\", \"Boots of Speed\"]\\n  },\\n  \"background\": \"Adept\",\\n  \"personality\": \"Curious and inventive, Eldrin is always seeking new knowledge and magical secrets. He is a bit of a loner, preferring the company of books and scrolls to that of other people.\",\\n  \"appearance\": {\\n    \"hair_color\": \"Gray\",\\n    \"hair_style\": \"Long and flowing\",\\n    \"eye_color\": \"Green\",\\n    \"skin_color\": \"Light\",\\n    \"height\": \"6\\'2\\\\\"'}"
            ]
          },
          "metadata": {},
          "execution_count": 46
        }
      ]
    },
    {
      "cell_type": "code",
      "source": [
        "outputs[0][\"generated_text\"]"
      ],
      "metadata": {
        "id": "E0rZ1W8-SWdr",
        "colab": {
          "base_uri": "https://localhost:8080/",
          "height": 214
        },
        "outputId": "4249b1f4-bd53-46e2-9921-bb71d36e9f53"
      },
      "execution_count": 47,
      "outputs": [
        {
          "output_type": "execute_result",
          "data": {
            "text/plain": [
              "' ```json\\n{\\n  \"name\": \"Eldrin the Wise\",\\n  \"race\": \"Elf\",\\n  \"class\": \"Wizard\",\\n  \"level\": 10,\\n  \"alignment\": \"Chaotic Good\",\\n  \"strength\": 8,\\n  \"dexterity\": 14,\\n  \"constitution\": 12,\\n  \"intelligence\": 18,\\n  \"wisdom\": 16,\\n  \"charisma\": 10,\\n  \"weapon_skill\": \"Magic\",\\n  \"armor_skill\": \"Light\",\\n  \"spell_slots\": {\\n    \"cantrips\": [\"Mage Hand\", \"Detect Magic\", \"Mage Armor\", \"Prestidigitation\", \"Identify\", \"Invisibility\"],\\n    \"1st level\": [\"Fireball\", \"Magic Missile\", \"Shield\", \"Cure Wounds\", \"Detect Thoughts\", \"Charm Person\"],\\n    \"2nd level\": [\"Light\", \"Hold Person\", \"Sleep\", \"Committee\", \"Enlarge Person\", \"Teleport\"],\\n    \"3rd level\": [\"Frostbite\", \"Fog Cloud\", \"Disintegrate\", \"Dimension Door\", \"Mirror Image\", \"Misty Step\"]\\n  },\\n  \"equipment\": {\\n    \"weapon\": \"Staff of the Ancients\",\\n    \"armor\": \"Leather Armor\",\\n    \"accessories\": [\"Staff of Power\", \"Ring of Protection\", \"Boots of Speed\"]\\n  },\\n  \"background\": \"Adept\",\\n  \"personality\": \"Curious and inventive, Eldrin is always seeking new knowledge and magical secrets. He is a bit of a loner, preferring the company of books and scrolls to that of other people.\",\\n  \"appearance\": {\\n    \"hair_color\": \"Gray\",\\n    \"hair_style\": \"Long and flowing\",\\n    \"eye_color\": \"Green\",\\n    \"skin_color\": \"Light\",\\n    \"height\": \"6\\'2\\\\\"'"
            ],
            "application/vnd.google.colaboratory.intrinsic+json": {
              "type": "string"
            }
          },
          "metadata": {},
          "execution_count": 47
        }
      ]
    },
    {
      "cell_type": "code",
      "execution_count": 48,
      "metadata": {
        "id": "4cc1U9TKZJkM",
        "colab": {
          "base_uri": "https://localhost:8080/"
        },
        "outputId": "4cc745a2-da88-43e4-b61a-cee351d0a9f0"
      },
      "outputs": [
        {
          "output_type": "execute_result",
          "data": {
            "text/plain": [
              "[{'generated_text': ' {\\n  \"description\": \"A cunning rogue with a mysterious past, skilled in stealth and deception.\",\\n  \"name\": \"Shadowcloak\",\\n  \"armor\": \"Leather Hood\",\\n  \"weapon\": \"Dagger\"\\n}'}]"
            ]
          },
          "metadata": {},
          "execution_count": 48
        }
      ],
      "source": [
        "# One-shot learning: Providing an example of the output structure\n",
        "\"\"\"\n",
        "为 RPG 游戏创建简短的角色资料。确保仅使用以下格式：\n",
        "{\n",
        "“description”：“简短描述”，\n",
        "“name”：“角色名称”，\n",
        "“armor”：“一件盔甲”，\n",
        "“weapon”：“一件或多件武器”\n",
        "}\n",
        "\"\"\"\n",
        "one_shot_template = \"\"\"Create a short character profile for an RPG game. Make sure to only use this format:\n",
        "\n",
        "{\n",
        "  \"description\": \"A SHORT DESCRIPTION\",\n",
        "  \"name\": \"THE CHARACTER'S NAME\",\n",
        "  \"armor\": \"ONE PIECE OF ARMOR\",\n",
        "  \"weapon\": \"ONE OR MORE WEAPONS\"\n",
        "}\n",
        "\"\"\"\n",
        "one_shot_prompt = [\n",
        "    {\"role\": \"user\", \"content\": one_shot_template}\n",
        "]\n",
        "\n",
        "# Generate the output\n",
        "outputs = pipe(one_shot_prompt)\n",
        "outputs"
      ]
    },
    {
      "cell_type": "code",
      "source": [
        "outputs[0]"
      ],
      "metadata": {
        "id": "lvqYExW2SnMu",
        "colab": {
          "base_uri": "https://localhost:8080/"
        },
        "outputId": "74916d61-aba7-4f74-a251-53abca5be3bc"
      },
      "execution_count": 49,
      "outputs": [
        {
          "output_type": "execute_result",
          "data": {
            "text/plain": [
              "{'generated_text': ' {\\n  \"description\": \"A cunning rogue with a mysterious past, skilled in stealth and deception.\",\\n  \"name\": \"Shadowcloak\",\\n  \"armor\": \"Leather Hood\",\\n  \"weapon\": \"Dagger\"\\n}'}"
            ]
          },
          "metadata": {},
          "execution_count": 49
        }
      ]
    },
    {
      "cell_type": "code",
      "source": [
        "outputs[0][\"generated_text\"]"
      ],
      "metadata": {
        "id": "Lkqp_CKQSnP8",
        "colab": {
          "base_uri": "https://localhost:8080/",
          "height": 53
        },
        "outputId": "8d9458a5-d47e-4855-f991-eea21d20ca09"
      },
      "execution_count": 50,
      "outputs": [
        {
          "output_type": "execute_result",
          "data": {
            "text/plain": [
              "' {\\n  \"description\": \"A cunning rogue with a mysterious past, skilled in stealth and deception.\",\\n  \"name\": \"Shadowcloak\",\\n  \"armor\": \"Leather Hood\",\\n  \"weapon\": \"Dagger\"\\n}'"
            ],
            "application/vnd.google.colaboratory.intrinsic+json": {
              "type": "string"
            }
          },
          "metadata": {},
          "execution_count": 50
        }
      ]
    },
    {
      "cell_type": "markdown",
      "metadata": {
        "id": "jR3QSswQ2kAq"
      },
      "source": [
        "## Grammar: Constrained Sampling\n",
        "语法: 约束抽样"
      ]
    },
    {
      "cell_type": "code",
      "source": [
        "# !CMAKE_ARGS=\"-DLLAMA_CUBLAS=on\" pip install llama-cpp-python\n",
        "# !CMAKE_ARGS=\"-DGGML_CUDA=on\" pip install llama-cpp-python\n",
        "!pip install llama-cpp-python"
      ],
      "metadata": {
        "id": "VtoALigcV9Vi",
        "colab": {
          "base_uri": "https://localhost:8080/"
        },
        "outputId": "4c5773c6-b3d3-42b6-ab2e-5cbecd3352e7"
      },
      "execution_count": 51,
      "outputs": [
        {
          "output_type": "stream",
          "name": "stdout",
          "text": [
            "Collecting llama-cpp-python\n",
            "  Using cached llama_cpp_python-0.3.7.tar.gz (66.7 MB)\n",
            "  Installing build dependencies ... \u001b[?25l\u001b[?25hdone\n",
            "  Getting requirements to build wheel ... \u001b[?25l\u001b[?25hdone\n",
            "  Installing backend dependencies ... \u001b[?25l\u001b[?25hdone\n",
            "  Preparing metadata (pyproject.toml) ... \u001b[?25l\u001b[?25hdone\n",
            "Requirement already satisfied: typing-extensions>=4.5.0 in /usr/local/lib/python3.11/dist-packages (from llama-cpp-python) (4.12.2)\n",
            "Requirement already satisfied: numpy>=1.20.0 in /usr/local/lib/python3.11/dist-packages (from llama-cpp-python) (1.26.4)\n",
            "Collecting diskcache>=5.6.1 (from llama-cpp-python)\n",
            "  Using cached diskcache-5.6.3-py3-none-any.whl.metadata (20 kB)\n",
            "Requirement already satisfied: jinja2>=2.11.3 in /usr/local/lib/python3.11/dist-packages (from llama-cpp-python) (3.1.5)\n",
            "Requirement already satisfied: MarkupSafe>=2.0 in /usr/local/lib/python3.11/dist-packages (from jinja2>=2.11.3->llama-cpp-python) (3.0.2)\n",
            "Using cached diskcache-5.6.3-py3-none-any.whl (45 kB)\n",
            "Building wheels for collected packages: llama-cpp-python\n",
            "  Building wheel for llama-cpp-python (pyproject.toml) ... \u001b[?25l\u001b[?25hdone\n",
            "  Created wheel for llama-cpp-python: filename=llama_cpp_python-0.3.7-cp311-cp311-linux_x86_64.whl size=4601121 sha256=65234ff3db97d6b0f4e076e1eddbd6856df127cc09b564b1f792adaddd363292\n",
            "  Stored in directory: /root/.cache/pip/wheels/eb/82/79/ac77fcd49324b75ae6aa18e63a87cf9da4371a57e2cdc8dc03\n",
            "Successfully built llama-cpp-python\n",
            "Installing collected packages: diskcache, llama-cpp-python\n",
            "Successfully installed diskcache-5.6.3 llama-cpp-python-0.3.7\n"
          ]
        }
      ]
    },
    {
      "cell_type": "code",
      "execution_count": 52,
      "metadata": {
        "id": "L06f1CYoc9Pp"
      },
      "outputs": [],
      "source": [
        "import gc\n",
        "import torch\n",
        "del model, tokenizer, pipe\n",
        "\n",
        "# Flush memory\n",
        "gc.collect()\n",
        "torch.cuda.empty_cache()"
      ]
    },
    {
      "cell_type": "code",
      "execution_count": 53,
      "metadata": {
        "id": "B-YykcIru20X",
        "colab": {
          "base_uri": "https://localhost:8080/",
          "height": 87,
          "referenced_widgets": [
            "f13ac6ed2cf9449fb2253832e2aa407d",
            "9ba2cdc857fb485d84efd0ffb2039923",
            "d5bdf627fed7478982740fbf20cc68b3",
            "07450698a23e4374a03f2757e77700b8",
            "79887ab0ddee44eab550778da13aa15f",
            "b1aa4f2efccd47b19c1ffd9c55a4db49",
            "953b3dcb76b34a5a9cb36c74630f9479",
            "28daf991f8e24612b15326613043d1f7",
            "933fdda5944a461d99e6baa271f9daef",
            "2c2360ab93cb4e44a844b0ee6c86d160",
            "c5bb1145402640598e84d03bdbaba8d2"
          ]
        },
        "outputId": "734720c8-e49e-4e23-f250-af05658d862c"
      },
      "outputs": [
        {
          "output_type": "display_data",
          "data": {
            "text/plain": [
              "Phi-3-mini-4k-instruct-fp16.gguf:   0%|          | 0.00/7.64G [00:00<?, ?B/s]"
            ],
            "application/vnd.jupyter.widget-view+json": {
              "version_major": 2,
              "version_minor": 0,
              "model_id": "f13ac6ed2cf9449fb2253832e2aa407d"
            }
          },
          "metadata": {}
        },
        {
          "output_type": "stream",
          "name": "stderr",
          "text": [
            "llama_init_from_model: n_ctx_per_seq (2048) < n_ctx_train (4096) -- the full capacity of the model will not be utilized\n"
          ]
        }
      ],
      "source": [
        "from llama_cpp.llama import Llama\n",
        "\n",
        "# Load Phi-3\n",
        "llm = Llama.from_pretrained(\n",
        "    repo_id=\"microsoft/Phi-3-mini-4k-instruct-gguf\",\n",
        "    filename=\"*fp16.gguf\",\n",
        "    n_gpu_layers=-1,\n",
        "    n_ctx=2048,\n",
        "    verbose=False\n",
        ")"
      ]
    },
    {
      "cell_type": "code",
      "execution_count": 54,
      "metadata": {
        "id": "_j9TYBVIgti6",
        "colab": {
          "base_uri": "https://localhost:8080/"
        },
        "outputId": "d7e74504-0db6-47ba-ecce-54def758339a"
      },
      "outputs": [
        {
          "output_type": "execute_result",
          "data": {
            "text/plain": [
              "{'id': 'chatcmpl-ad531da9-7171-498d-8941-94510bc23408',\n",
              " 'object': 'chat.completion',\n",
              " 'created': 1740896914,\n",
              " 'model': '/root/.cache/huggingface/hub/models--microsoft--Phi-3-mini-4k-instruct-gguf/snapshots/999f761fe19e26cf1a339a5ec5f9f201301cbb83/./Phi-3-mini-4k-instruct-fp16.gguf',\n",
              " 'choices': [{'index': 0,\n",
              "   'message': {'role': 'assistant',\n",
              "    'content': '{\\n  \"warrior\": {\\n    \"name\": \"Eldric Stormbringer\",\\n    \"class\": \"Warrior\",\\n    \"level\": 5,\\n    \"attributes\": {\\n      \"strength\": 18,\\n      \"dexterity\": 10,\\n      \"constitution\": 16,\\n      \"intelligence\": 8,\\n      \"wisdom\": 10,\\n      \"charisma\": 12\\n    },\\n    \"skills\": [\\n      {\\n        \"name\": \"Martial Arts\",\\n        \"proficiency\": 20,\\n        \"description\": \"Expert in hand-to-hand combat and weapon handling.\"\\n      },\\n      {\\n        \"name\": \"Shield Block\",\\n        \"proficiency\": 18,\\n        \"description\": \"Highly skilled at deflecting attacks with a shield.\"\\n      },\\n      {\\n        \"name\": \"Heavy Armor\",\\n        \"proficiency\": 16,\\n        \"description\": \"Expertly equipped with heavy armor for protection.\"\\n      },\\n      {\\n        \"name\": \"Survival\",\\n        \"proficiency\": 14,\\n        \"description\": \"Adept at finding food, water, and shelter in the wilderness.\"\\n      }\\n    ],\\n    \"equipment\": [\\n      {\\n        \"name\": \"Iron Sword\",\\n        \"type\": \"Weapon\",\\n        \"damage\": 12,\\n        \"durability\": 100\\n      },\\n      {\\n        \"name\": \"Chainmail Armor\",\\n        \"type\": \"Armor\",\\n        \"defense\": 18,\\n        \"durability\": 100\\n      },\\n      {\\n        \"name\": \"Leather Boots\",\\n        \"type\": \"Armor\",\\n        \"defense\": 8,\\n        \"durability\": 100\\n      }\\n    ],\\n    \"abilities\": [\\n      {\\n        \"name\": \"Berserker Rage\",\\n        \"description\": \"Increases strength and attack power for a short duration.\"\\n      },\\n      {\\n        \"name\": \"Shield Wall\",\\n        \"description\": \"Forms a defensive barrier with allies, reducing incoming damage.\"\\n      },\\n      {\\n        \"name\": \"Battle Cry\",\\n        \"description\": \"Inspires nearby allies, increasing their attack power temporarily.\"\\n      }\\n    ]\\n  }\\n}'},\n",
              "   'logprobs': None,\n",
              "   'finish_reason': 'stop'}],\n",
              " 'usage': {'prompt_tokens': 16, 'completion_tokens': 582, 'total_tokens': 598}}"
            ]
          },
          "metadata": {},
          "execution_count": 54
        }
      ],
      "source": [
        "# Generate output\n",
        "output = llm.create_chat_completion(\n",
        "    messages=[\n",
        "        {\"role\": \"user\", \"content\": \"Create a warrior for an RPG in JSON format.\"},\n",
        "    ],\n",
        "    response_format={\"type\": \"json_object\"},\n",
        "    temperature=0,\n",
        ")\n",
        "output"
      ]
    },
    {
      "cell_type": "code",
      "source": [
        "output['choices']"
      ],
      "metadata": {
        "id": "-Z_SYT7GUfTD",
        "colab": {
          "base_uri": "https://localhost:8080/"
        },
        "outputId": "e169c53e-653d-4f10-b52f-a97a91f9335c"
      },
      "execution_count": 55,
      "outputs": [
        {
          "output_type": "execute_result",
          "data": {
            "text/plain": [
              "[{'index': 0,\n",
              "  'message': {'role': 'assistant',\n",
              "   'content': '{\\n  \"warrior\": {\\n    \"name\": \"Eldric Stormbringer\",\\n    \"class\": \"Warrior\",\\n    \"level\": 5,\\n    \"attributes\": {\\n      \"strength\": 18,\\n      \"dexterity\": 10,\\n      \"constitution\": 16,\\n      \"intelligence\": 8,\\n      \"wisdom\": 10,\\n      \"charisma\": 12\\n    },\\n    \"skills\": [\\n      {\\n        \"name\": \"Martial Arts\",\\n        \"proficiency\": 20,\\n        \"description\": \"Expert in hand-to-hand combat and weapon handling.\"\\n      },\\n      {\\n        \"name\": \"Shield Block\",\\n        \"proficiency\": 18,\\n        \"description\": \"Highly skilled at deflecting attacks with a shield.\"\\n      },\\n      {\\n        \"name\": \"Heavy Armor\",\\n        \"proficiency\": 16,\\n        \"description\": \"Expertly equipped with heavy armor for protection.\"\\n      },\\n      {\\n        \"name\": \"Survival\",\\n        \"proficiency\": 14,\\n        \"description\": \"Adept at finding food, water, and shelter in the wilderness.\"\\n      }\\n    ],\\n    \"equipment\": [\\n      {\\n        \"name\": \"Iron Sword\",\\n        \"type\": \"Weapon\",\\n        \"damage\": 12,\\n        \"durability\": 100\\n      },\\n      {\\n        \"name\": \"Chainmail Armor\",\\n        \"type\": \"Armor\",\\n        \"defense\": 18,\\n        \"durability\": 100\\n      },\\n      {\\n        \"name\": \"Leather Boots\",\\n        \"type\": \"Armor\",\\n        \"defense\": 8,\\n        \"durability\": 100\\n      }\\n    ],\\n    \"abilities\": [\\n      {\\n        \"name\": \"Berserker Rage\",\\n        \"description\": \"Increases strength and attack power for a short duration.\"\\n      },\\n      {\\n        \"name\": \"Shield Wall\",\\n        \"description\": \"Forms a defensive barrier with allies, reducing incoming damage.\"\\n      },\\n      {\\n        \"name\": \"Battle Cry\",\\n        \"description\": \"Inspires nearby allies, increasing their attack power temporarily.\"\\n      }\\n    ]\\n  }\\n}'},\n",
              "  'logprobs': None,\n",
              "  'finish_reason': 'stop'}]"
            ]
          },
          "metadata": {},
          "execution_count": 55
        }
      ]
    },
    {
      "cell_type": "code",
      "source": [
        "output['choices'][0]"
      ],
      "metadata": {
        "id": "Tds5P4oZUfWS",
        "colab": {
          "base_uri": "https://localhost:8080/"
        },
        "outputId": "cffbd1c7-80cf-4325-d5ee-6e3a3a77ad9e"
      },
      "execution_count": 56,
      "outputs": [
        {
          "output_type": "execute_result",
          "data": {
            "text/plain": [
              "{'index': 0,\n",
              " 'message': {'role': 'assistant',\n",
              "  'content': '{\\n  \"warrior\": {\\n    \"name\": \"Eldric Stormbringer\",\\n    \"class\": \"Warrior\",\\n    \"level\": 5,\\n    \"attributes\": {\\n      \"strength\": 18,\\n      \"dexterity\": 10,\\n      \"constitution\": 16,\\n      \"intelligence\": 8,\\n      \"wisdom\": 10,\\n      \"charisma\": 12\\n    },\\n    \"skills\": [\\n      {\\n        \"name\": \"Martial Arts\",\\n        \"proficiency\": 20,\\n        \"description\": \"Expert in hand-to-hand combat and weapon handling.\"\\n      },\\n      {\\n        \"name\": \"Shield Block\",\\n        \"proficiency\": 18,\\n        \"description\": \"Highly skilled at deflecting attacks with a shield.\"\\n      },\\n      {\\n        \"name\": \"Heavy Armor\",\\n        \"proficiency\": 16,\\n        \"description\": \"Expertly equipped with heavy armor for protection.\"\\n      },\\n      {\\n        \"name\": \"Survival\",\\n        \"proficiency\": 14,\\n        \"description\": \"Adept at finding food, water, and shelter in the wilderness.\"\\n      }\\n    ],\\n    \"equipment\": [\\n      {\\n        \"name\": \"Iron Sword\",\\n        \"type\": \"Weapon\",\\n        \"damage\": 12,\\n        \"durability\": 100\\n      },\\n      {\\n        \"name\": \"Chainmail Armor\",\\n        \"type\": \"Armor\",\\n        \"defense\": 18,\\n        \"durability\": 100\\n      },\\n      {\\n        \"name\": \"Leather Boots\",\\n        \"type\": \"Armor\",\\n        \"defense\": 8,\\n        \"durability\": 100\\n      }\\n    ],\\n    \"abilities\": [\\n      {\\n        \"name\": \"Berserker Rage\",\\n        \"description\": \"Increases strength and attack power for a short duration.\"\\n      },\\n      {\\n        \"name\": \"Shield Wall\",\\n        \"description\": \"Forms a defensive barrier with allies, reducing incoming damage.\"\\n      },\\n      {\\n        \"name\": \"Battle Cry\",\\n        \"description\": \"Inspires nearby allies, increasing their attack power temporarily.\"\\n      }\\n    ]\\n  }\\n}'},\n",
              " 'logprobs': None,\n",
              " 'finish_reason': 'stop'}"
            ]
          },
          "metadata": {},
          "execution_count": 56
        }
      ]
    },
    {
      "cell_type": "code",
      "source": [
        "output['choices'][0]['message']"
      ],
      "metadata": {
        "id": "i1SxJu5ZUfZc",
        "colab": {
          "base_uri": "https://localhost:8080/"
        },
        "outputId": "a98103ed-f7b0-4bb7-f7d6-64c32f922f58"
      },
      "execution_count": 57,
      "outputs": [
        {
          "output_type": "execute_result",
          "data": {
            "text/plain": [
              "{'role': 'assistant',\n",
              " 'content': '{\\n  \"warrior\": {\\n    \"name\": \"Eldric Stormbringer\",\\n    \"class\": \"Warrior\",\\n    \"level\": 5,\\n    \"attributes\": {\\n      \"strength\": 18,\\n      \"dexterity\": 10,\\n      \"constitution\": 16,\\n      \"intelligence\": 8,\\n      \"wisdom\": 10,\\n      \"charisma\": 12\\n    },\\n    \"skills\": [\\n      {\\n        \"name\": \"Martial Arts\",\\n        \"proficiency\": 20,\\n        \"description\": \"Expert in hand-to-hand combat and weapon handling.\"\\n      },\\n      {\\n        \"name\": \"Shield Block\",\\n        \"proficiency\": 18,\\n        \"description\": \"Highly skilled at deflecting attacks with a shield.\"\\n      },\\n      {\\n        \"name\": \"Heavy Armor\",\\n        \"proficiency\": 16,\\n        \"description\": \"Expertly equipped with heavy armor for protection.\"\\n      },\\n      {\\n        \"name\": \"Survival\",\\n        \"proficiency\": 14,\\n        \"description\": \"Adept at finding food, water, and shelter in the wilderness.\"\\n      }\\n    ],\\n    \"equipment\": [\\n      {\\n        \"name\": \"Iron Sword\",\\n        \"type\": \"Weapon\",\\n        \"damage\": 12,\\n        \"durability\": 100\\n      },\\n      {\\n        \"name\": \"Chainmail Armor\",\\n        \"type\": \"Armor\",\\n        \"defense\": 18,\\n        \"durability\": 100\\n      },\\n      {\\n        \"name\": \"Leather Boots\",\\n        \"type\": \"Armor\",\\n        \"defense\": 8,\\n        \"durability\": 100\\n      }\\n    ],\\n    \"abilities\": [\\n      {\\n        \"name\": \"Berserker Rage\",\\n        \"description\": \"Increases strength and attack power for a short duration.\"\\n      },\\n      {\\n        \"name\": \"Shield Wall\",\\n        \"description\": \"Forms a defensive barrier with allies, reducing incoming damage.\"\\n      },\\n      {\\n        \"name\": \"Battle Cry\",\\n        \"description\": \"Inspires nearby allies, increasing their attack power temporarily.\"\\n      }\\n    ]\\n  }\\n}'}"
            ]
          },
          "metadata": {},
          "execution_count": 57
        }
      ]
    },
    {
      "cell_type": "code",
      "source": [
        "output['choices'][0]['message'][\"content\"]"
      ],
      "metadata": {
        "id": "63-091bmUfck",
        "colab": {
          "base_uri": "https://localhost:8080/",
          "height": 214
        },
        "outputId": "59b07e9a-aa18-4138-de67-e12a7029da6d"
      },
      "execution_count": 58,
      "outputs": [
        {
          "output_type": "execute_result",
          "data": {
            "text/plain": [
              "'{\\n  \"warrior\": {\\n    \"name\": \"Eldric Stormbringer\",\\n    \"class\": \"Warrior\",\\n    \"level\": 5,\\n    \"attributes\": {\\n      \"strength\": 18,\\n      \"dexterity\": 10,\\n      \"constitution\": 16,\\n      \"intelligence\": 8,\\n      \"wisdom\": 10,\\n      \"charisma\": 12\\n    },\\n    \"skills\": [\\n      {\\n        \"name\": \"Martial Arts\",\\n        \"proficiency\": 20,\\n        \"description\": \"Expert in hand-to-hand combat and weapon handling.\"\\n      },\\n      {\\n        \"name\": \"Shield Block\",\\n        \"proficiency\": 18,\\n        \"description\": \"Highly skilled at deflecting attacks with a shield.\"\\n      },\\n      {\\n        \"name\": \"Heavy Armor\",\\n        \"proficiency\": 16,\\n        \"description\": \"Expertly equipped with heavy armor for protection.\"\\n      },\\n      {\\n        \"name\": \"Survival\",\\n        \"proficiency\": 14,\\n        \"description\": \"Adept at finding food, water, and shelter in the wilderness.\"\\n      }\\n    ],\\n    \"equipment\": [\\n      {\\n        \"name\": \"Iron Sword\",\\n        \"type\": \"Weapon\",\\n        \"damage\": 12,\\n        \"durability\": 100\\n      },\\n      {\\n        \"name\": \"Chainmail Armor\",\\n        \"type\": \"Armor\",\\n        \"defense\": 18,\\n        \"durability\": 100\\n      },\\n      {\\n        \"name\": \"Leather Boots\",\\n        \"type\": \"Armor\",\\n        \"defense\": 8,\\n        \"durability\": 100\\n      }\\n    ],\\n    \"abilities\": [\\n      {\\n        \"name\": \"Berserker Rage\",\\n        \"description\": \"Increases strength and attack power for a short duration.\"\\n      },\\n      {\\n        \"name\": \"Shield Wall\",\\n        \"description\": \"Forms a defensive barrier with allies, reducing incoming damage.\"\\n      },\\n      {\\n        \"name\": \"Battle Cry\",\\n        \"description\": \"Inspires nearby allies, increasing their attack power temporarily.\"\\n      }\\n    ]\\n  }\\n}'"
            ],
            "application/vnd.google.colaboratory.intrinsic+json": {
              "type": "string"
            }
          },
          "metadata": {},
          "execution_count": 58
        }
      ]
    },
    {
      "cell_type": "code",
      "source": [
        "output = output['choices'][0]['message'][\"content\"]"
      ],
      "metadata": {
        "id": "_5gK8MFhUjeo"
      },
      "execution_count": 59,
      "outputs": []
    },
    {
      "cell_type": "code",
      "execution_count": 60,
      "metadata": {
        "id": "Kp7FBjFdsbHe",
        "colab": {
          "base_uri": "https://localhost:8080/"
        },
        "outputId": "fc01da9b-b4a5-4783-b2a7-673ba9bbd7a4"
      },
      "outputs": [
        {
          "metadata": {
            "tags": null
          },
          "name": "stdout",
          "output_type": "stream",
          "text": [
            "{\n",
            "    \"warrior\": {\n",
            "        \"name\": \"Eldric Stormbringer\",\n",
            "        \"class\": \"Warrior\",\n",
            "        \"level\": 5,\n",
            "        \"attributes\": {\n",
            "            \"strength\": 18,\n",
            "            \"dexterity\": 10,\n",
            "            \"constitution\": 16,\n",
            "            \"intelligence\": 8,\n",
            "            \"wisdom\": 10,\n",
            "            \"charisma\": 12\n",
            "        },\n",
            "        \"skills\": [\n",
            "            {\n",
            "                \"name\": \"Martial Arts\",\n",
            "                \"proficiency\": 20,\n",
            "                \"description\": \"Expert in hand-to-hand combat and weapon handling.\"\n",
            "            },\n",
            "            {\n",
            "                \"name\": \"Shield Block\",\n",
            "                \"proficiency\": 18,\n",
            "                \"description\": \"Highly skilled at deflecting attacks with a shield.\"\n",
            "            },\n",
            "            {\n",
            "                \"name\": \"Heavy Armor\",\n",
            "                \"proficiency\": 16,\n",
            "                \"description\": \"Expertly equipped with heavy armor for protection.\"\n",
            "            },\n",
            "            {\n",
            "                \"name\": \"Survival\",\n",
            "                \"proficiency\": 14,\n",
            "                \"description\": \"Adept at finding food, water, and shelter in the wilderness.\"\n",
            "            }\n",
            "        ],\n",
            "        \"equipment\": [\n",
            "            {\n",
            "                \"name\": \"Iron Sword\",\n",
            "                \"type\": \"Weapon\",\n",
            "                \"damage\": 12,\n",
            "                \"durability\": 100\n",
            "            },\n",
            "            {\n",
            "                \"name\": \"Chainmail Armor\",\n",
            "                \"type\": \"Armor\",\n",
            "                \"defense\": 18,\n",
            "                \"durability\": 100\n",
            "            },\n",
            "            {\n",
            "                \"name\": \"Leather Boots\",\n",
            "                \"type\": \"Armor\",\n",
            "                \"defense\": 8,\n",
            "                \"durability\": 100\n",
            "            }\n",
            "        ],\n",
            "        \"abilities\": [\n",
            "            {\n",
            "                \"name\": \"Berserker Rage\",\n",
            "                \"description\": \"Increases strength and attack power for a short duration.\"\n",
            "            },\n",
            "            {\n",
            "                \"name\": \"Shield Wall\",\n",
            "                \"description\": \"Forms a defensive barrier with allies, reducing incoming damage.\"\n",
            "            },\n",
            "            {\n",
            "                \"name\": \"Battle Cry\",\n",
            "                \"description\": \"Inspires nearby allies, increasing their attack power temporarily.\"\n",
            "            }\n",
            "        ]\n",
            "    }\n",
            "}\n"
          ]
        }
      ],
      "source": [
        "import json\n",
        "\n",
        "# Format as json\n",
        "json_output = json.dumps(json.loads(output), indent=4)\n",
        "print(json_output)"
      ]
    },
    {
      "cell_type": "code",
      "execution_count": 61,
      "metadata": {
        "id": "kxf4Xexhtel_"
      },
      "outputs": [],
      "source": [
        "!pip freeze > colab_requirements.txt"
      ]
    },
    {
      "cell_type": "code",
      "source": [],
      "metadata": {
        "id": "Gk9jNZkVasX-"
      },
      "execution_count": 61,
      "outputs": []
    }
  ],
  "metadata": {
    "accelerator": "GPU",
    "colab": {
      "gpuType": "T4",
      "provenance": []
    },
    "kernelspec": {
      "display_name": "Python 3",
      "name": "python3"
    },
    "language_info": {
      "codemirror_mode": {
        "name": "ipython",
        "version": 3
      },
      "file_extension": ".py",
      "mimetype": "text/x-python",
      "name": "python",
      "nbconvert_exporter": "python",
      "pygments_lexer": "ipython3",
      "version": "3.10.14"
    },
    "widgets": {
      "application/vnd.jupyter.widget-state+json": {
        "40e335ceac1c461db13a2427510c9db8": {
          "model_module": "@jupyter-widgets/controls",
          "model_name": "HBoxModel",
          "model_module_version": "1.5.0",
          "state": {
            "_dom_classes": [],
            "_model_module": "@jupyter-widgets/controls",
            "_model_module_version": "1.5.0",
            "_model_name": "HBoxModel",
            "_view_count": null,
            "_view_module": "@jupyter-widgets/controls",
            "_view_module_version": "1.5.0",
            "_view_name": "HBoxView",
            "box_style": "",
            "children": [
              "IPY_MODEL_bbfcaccf0f93489a9a19276d4804fa85",
              "IPY_MODEL_4f22fa55f6fb459894531e14d5f99f2e",
              "IPY_MODEL_2ac74e9cbdf349a28599c3e282f7c1b0"
            ],
            "layout": "IPY_MODEL_478c2be061724c25906bea75fefef20a"
          }
        },
        "bbfcaccf0f93489a9a19276d4804fa85": {
          "model_module": "@jupyter-widgets/controls",
          "model_name": "HTMLModel",
          "model_module_version": "1.5.0",
          "state": {
            "_dom_classes": [],
            "_model_module": "@jupyter-widgets/controls",
            "_model_module_version": "1.5.0",
            "_model_name": "HTMLModel",
            "_view_count": null,
            "_view_module": "@jupyter-widgets/controls",
            "_view_module_version": "1.5.0",
            "_view_name": "HTMLView",
            "description": "",
            "description_tooltip": null,
            "layout": "IPY_MODEL_155047bbc09e4925954e009b65abeab2",
            "placeholder": "​",
            "style": "IPY_MODEL_44573d392259470a8d1a0e4b8f2c9d58",
            "value": "Loading checkpoint shards: 100%"
          }
        },
        "4f22fa55f6fb459894531e14d5f99f2e": {
          "model_module": "@jupyter-widgets/controls",
          "model_name": "FloatProgressModel",
          "model_module_version": "1.5.0",
          "state": {
            "_dom_classes": [],
            "_model_module": "@jupyter-widgets/controls",
            "_model_module_version": "1.5.0",
            "_model_name": "FloatProgressModel",
            "_view_count": null,
            "_view_module": "@jupyter-widgets/controls",
            "_view_module_version": "1.5.0",
            "_view_name": "ProgressView",
            "bar_style": "success",
            "description": "",
            "description_tooltip": null,
            "layout": "IPY_MODEL_72ae2d824256444f8b43c411384a78d0",
            "max": 2,
            "min": 0,
            "orientation": "horizontal",
            "style": "IPY_MODEL_e4d4cd45fd2044d69379069905cfaa7d",
            "value": 2
          }
        },
        "2ac74e9cbdf349a28599c3e282f7c1b0": {
          "model_module": "@jupyter-widgets/controls",
          "model_name": "HTMLModel",
          "model_module_version": "1.5.0",
          "state": {
            "_dom_classes": [],
            "_model_module": "@jupyter-widgets/controls",
            "_model_module_version": "1.5.0",
            "_model_name": "HTMLModel",
            "_view_count": null,
            "_view_module": "@jupyter-widgets/controls",
            "_view_module_version": "1.5.0",
            "_view_name": "HTMLView",
            "description": "",
            "description_tooltip": null,
            "layout": "IPY_MODEL_5c95cfaa28ee4538a9b911c49edeb7e2",
            "placeholder": "​",
            "style": "IPY_MODEL_65ef8d8dde0d42c8b49327e8ba8ffeb8",
            "value": " 2/2 [00:37&lt;00:00, 17.93s/it]"
          }
        },
        "478c2be061724c25906bea75fefef20a": {
          "model_module": "@jupyter-widgets/base",
          "model_name": "LayoutModel",
          "model_module_version": "1.2.0",
          "state": {
            "_model_module": "@jupyter-widgets/base",
            "_model_module_version": "1.2.0",
            "_model_name": "LayoutModel",
            "_view_count": null,
            "_view_module": "@jupyter-widgets/base",
            "_view_module_version": "1.2.0",
            "_view_name": "LayoutView",
            "align_content": null,
            "align_items": null,
            "align_self": null,
            "border": null,
            "bottom": null,
            "display": null,
            "flex": null,
            "flex_flow": null,
            "grid_area": null,
            "grid_auto_columns": null,
            "grid_auto_flow": null,
            "grid_auto_rows": null,
            "grid_column": null,
            "grid_gap": null,
            "grid_row": null,
            "grid_template_areas": null,
            "grid_template_columns": null,
            "grid_template_rows": null,
            "height": null,
            "justify_content": null,
            "justify_items": null,
            "left": null,
            "margin": null,
            "max_height": null,
            "max_width": null,
            "min_height": null,
            "min_width": null,
            "object_fit": null,
            "object_position": null,
            "order": null,
            "overflow": null,
            "overflow_x": null,
            "overflow_y": null,
            "padding": null,
            "right": null,
            "top": null,
            "visibility": null,
            "width": null
          }
        },
        "155047bbc09e4925954e009b65abeab2": {
          "model_module": "@jupyter-widgets/base",
          "model_name": "LayoutModel",
          "model_module_version": "1.2.0",
          "state": {
            "_model_module": "@jupyter-widgets/base",
            "_model_module_version": "1.2.0",
            "_model_name": "LayoutModel",
            "_view_count": null,
            "_view_module": "@jupyter-widgets/base",
            "_view_module_version": "1.2.0",
            "_view_name": "LayoutView",
            "align_content": null,
            "align_items": null,
            "align_self": null,
            "border": null,
            "bottom": null,
            "display": null,
            "flex": null,
            "flex_flow": null,
            "grid_area": null,
            "grid_auto_columns": null,
            "grid_auto_flow": null,
            "grid_auto_rows": null,
            "grid_column": null,
            "grid_gap": null,
            "grid_row": null,
            "grid_template_areas": null,
            "grid_template_columns": null,
            "grid_template_rows": null,
            "height": null,
            "justify_content": null,
            "justify_items": null,
            "left": null,
            "margin": null,
            "max_height": null,
            "max_width": null,
            "min_height": null,
            "min_width": null,
            "object_fit": null,
            "object_position": null,
            "order": null,
            "overflow": null,
            "overflow_x": null,
            "overflow_y": null,
            "padding": null,
            "right": null,
            "top": null,
            "visibility": null,
            "width": null
          }
        },
        "44573d392259470a8d1a0e4b8f2c9d58": {
          "model_module": "@jupyter-widgets/controls",
          "model_name": "DescriptionStyleModel",
          "model_module_version": "1.5.0",
          "state": {
            "_model_module": "@jupyter-widgets/controls",
            "_model_module_version": "1.5.0",
            "_model_name": "DescriptionStyleModel",
            "_view_count": null,
            "_view_module": "@jupyter-widgets/base",
            "_view_module_version": "1.2.0",
            "_view_name": "StyleView",
            "description_width": ""
          }
        },
        "72ae2d824256444f8b43c411384a78d0": {
          "model_module": "@jupyter-widgets/base",
          "model_name": "LayoutModel",
          "model_module_version": "1.2.0",
          "state": {
            "_model_module": "@jupyter-widgets/base",
            "_model_module_version": "1.2.0",
            "_model_name": "LayoutModel",
            "_view_count": null,
            "_view_module": "@jupyter-widgets/base",
            "_view_module_version": "1.2.0",
            "_view_name": "LayoutView",
            "align_content": null,
            "align_items": null,
            "align_self": null,
            "border": null,
            "bottom": null,
            "display": null,
            "flex": null,
            "flex_flow": null,
            "grid_area": null,
            "grid_auto_columns": null,
            "grid_auto_flow": null,
            "grid_auto_rows": null,
            "grid_column": null,
            "grid_gap": null,
            "grid_row": null,
            "grid_template_areas": null,
            "grid_template_columns": null,
            "grid_template_rows": null,
            "height": null,
            "justify_content": null,
            "justify_items": null,
            "left": null,
            "margin": null,
            "max_height": null,
            "max_width": null,
            "min_height": null,
            "min_width": null,
            "object_fit": null,
            "object_position": null,
            "order": null,
            "overflow": null,
            "overflow_x": null,
            "overflow_y": null,
            "padding": null,
            "right": null,
            "top": null,
            "visibility": null,
            "width": null
          }
        },
        "e4d4cd45fd2044d69379069905cfaa7d": {
          "model_module": "@jupyter-widgets/controls",
          "model_name": "ProgressStyleModel",
          "model_module_version": "1.5.0",
          "state": {
            "_model_module": "@jupyter-widgets/controls",
            "_model_module_version": "1.5.0",
            "_model_name": "ProgressStyleModel",
            "_view_count": null,
            "_view_module": "@jupyter-widgets/base",
            "_view_module_version": "1.2.0",
            "_view_name": "StyleView",
            "bar_color": null,
            "description_width": ""
          }
        },
        "5c95cfaa28ee4538a9b911c49edeb7e2": {
          "model_module": "@jupyter-widgets/base",
          "model_name": "LayoutModel",
          "model_module_version": "1.2.0",
          "state": {
            "_model_module": "@jupyter-widgets/base",
            "_model_module_version": "1.2.0",
            "_model_name": "LayoutModel",
            "_view_count": null,
            "_view_module": "@jupyter-widgets/base",
            "_view_module_version": "1.2.0",
            "_view_name": "LayoutView",
            "align_content": null,
            "align_items": null,
            "align_self": null,
            "border": null,
            "bottom": null,
            "display": null,
            "flex": null,
            "flex_flow": null,
            "grid_area": null,
            "grid_auto_columns": null,
            "grid_auto_flow": null,
            "grid_auto_rows": null,
            "grid_column": null,
            "grid_gap": null,
            "grid_row": null,
            "grid_template_areas": null,
            "grid_template_columns": null,
            "grid_template_rows": null,
            "height": null,
            "justify_content": null,
            "justify_items": null,
            "left": null,
            "margin": null,
            "max_height": null,
            "max_width": null,
            "min_height": null,
            "min_width": null,
            "object_fit": null,
            "object_position": null,
            "order": null,
            "overflow": null,
            "overflow_x": null,
            "overflow_y": null,
            "padding": null,
            "right": null,
            "top": null,
            "visibility": null,
            "width": null
          }
        },
        "65ef8d8dde0d42c8b49327e8ba8ffeb8": {
          "model_module": "@jupyter-widgets/controls",
          "model_name": "DescriptionStyleModel",
          "model_module_version": "1.5.0",
          "state": {
            "_model_module": "@jupyter-widgets/controls",
            "_model_module_version": "1.5.0",
            "_model_name": "DescriptionStyleModel",
            "_view_count": null,
            "_view_module": "@jupyter-widgets/base",
            "_view_module_version": "1.2.0",
            "_view_name": "StyleView",
            "description_width": ""
          }
        },
        "f13ac6ed2cf9449fb2253832e2aa407d": {
          "model_module": "@jupyter-widgets/controls",
          "model_name": "HBoxModel",
          "model_module_version": "1.5.0",
          "state": {
            "_dom_classes": [],
            "_model_module": "@jupyter-widgets/controls",
            "_model_module_version": "1.5.0",
            "_model_name": "HBoxModel",
            "_view_count": null,
            "_view_module": "@jupyter-widgets/controls",
            "_view_module_version": "1.5.0",
            "_view_name": "HBoxView",
            "box_style": "",
            "children": [
              "IPY_MODEL_9ba2cdc857fb485d84efd0ffb2039923",
              "IPY_MODEL_d5bdf627fed7478982740fbf20cc68b3",
              "IPY_MODEL_07450698a23e4374a03f2757e77700b8"
            ],
            "layout": "IPY_MODEL_79887ab0ddee44eab550778da13aa15f"
          }
        },
        "9ba2cdc857fb485d84efd0ffb2039923": {
          "model_module": "@jupyter-widgets/controls",
          "model_name": "HTMLModel",
          "model_module_version": "1.5.0",
          "state": {
            "_dom_classes": [],
            "_model_module": "@jupyter-widgets/controls",
            "_model_module_version": "1.5.0",
            "_model_name": "HTMLModel",
            "_view_count": null,
            "_view_module": "@jupyter-widgets/controls",
            "_view_module_version": "1.5.0",
            "_view_name": "HTMLView",
            "description": "",
            "description_tooltip": null,
            "layout": "IPY_MODEL_b1aa4f2efccd47b19c1ffd9c55a4db49",
            "placeholder": "​",
            "style": "IPY_MODEL_953b3dcb76b34a5a9cb36c74630f9479",
            "value": "Phi-3-mini-4k-instruct-fp16.gguf: 100%"
          }
        },
        "d5bdf627fed7478982740fbf20cc68b3": {
          "model_module": "@jupyter-widgets/controls",
          "model_name": "FloatProgressModel",
          "model_module_version": "1.5.0",
          "state": {
            "_dom_classes": [],
            "_model_module": "@jupyter-widgets/controls",
            "_model_module_version": "1.5.0",
            "_model_name": "FloatProgressModel",
            "_view_count": null,
            "_view_module": "@jupyter-widgets/controls",
            "_view_module_version": "1.5.0",
            "_view_name": "ProgressView",
            "bar_style": "success",
            "description": "",
            "description_tooltip": null,
            "layout": "IPY_MODEL_28daf991f8e24612b15326613043d1f7",
            "max": 7643295904,
            "min": 0,
            "orientation": "horizontal",
            "style": "IPY_MODEL_933fdda5944a461d99e6baa271f9daef",
            "value": 7643295904
          }
        },
        "07450698a23e4374a03f2757e77700b8": {
          "model_module": "@jupyter-widgets/controls",
          "model_name": "HTMLModel",
          "model_module_version": "1.5.0",
          "state": {
            "_dom_classes": [],
            "_model_module": "@jupyter-widgets/controls",
            "_model_module_version": "1.5.0",
            "_model_name": "HTMLModel",
            "_view_count": null,
            "_view_module": "@jupyter-widgets/controls",
            "_view_module_version": "1.5.0",
            "_view_name": "HTMLView",
            "description": "",
            "description_tooltip": null,
            "layout": "IPY_MODEL_2c2360ab93cb4e44a844b0ee6c86d160",
            "placeholder": "​",
            "style": "IPY_MODEL_c5bb1145402640598e84d03bdbaba8d2",
            "value": " 7.64G/7.64G [00:55&lt;00:00, 213MB/s]"
          }
        },
        "79887ab0ddee44eab550778da13aa15f": {
          "model_module": "@jupyter-widgets/base",
          "model_name": "LayoutModel",
          "model_module_version": "1.2.0",
          "state": {
            "_model_module": "@jupyter-widgets/base",
            "_model_module_version": "1.2.0",
            "_model_name": "LayoutModel",
            "_view_count": null,
            "_view_module": "@jupyter-widgets/base",
            "_view_module_version": "1.2.0",
            "_view_name": "LayoutView",
            "align_content": null,
            "align_items": null,
            "align_self": null,
            "border": null,
            "bottom": null,
            "display": null,
            "flex": null,
            "flex_flow": null,
            "grid_area": null,
            "grid_auto_columns": null,
            "grid_auto_flow": null,
            "grid_auto_rows": null,
            "grid_column": null,
            "grid_gap": null,
            "grid_row": null,
            "grid_template_areas": null,
            "grid_template_columns": null,
            "grid_template_rows": null,
            "height": null,
            "justify_content": null,
            "justify_items": null,
            "left": null,
            "margin": null,
            "max_height": null,
            "max_width": null,
            "min_height": null,
            "min_width": null,
            "object_fit": null,
            "object_position": null,
            "order": null,
            "overflow": null,
            "overflow_x": null,
            "overflow_y": null,
            "padding": null,
            "right": null,
            "top": null,
            "visibility": null,
            "width": null
          }
        },
        "b1aa4f2efccd47b19c1ffd9c55a4db49": {
          "model_module": "@jupyter-widgets/base",
          "model_name": "LayoutModel",
          "model_module_version": "1.2.0",
          "state": {
            "_model_module": "@jupyter-widgets/base",
            "_model_module_version": "1.2.0",
            "_model_name": "LayoutModel",
            "_view_count": null,
            "_view_module": "@jupyter-widgets/base",
            "_view_module_version": "1.2.0",
            "_view_name": "LayoutView",
            "align_content": null,
            "align_items": null,
            "align_self": null,
            "border": null,
            "bottom": null,
            "display": null,
            "flex": null,
            "flex_flow": null,
            "grid_area": null,
            "grid_auto_columns": null,
            "grid_auto_flow": null,
            "grid_auto_rows": null,
            "grid_column": null,
            "grid_gap": null,
            "grid_row": null,
            "grid_template_areas": null,
            "grid_template_columns": null,
            "grid_template_rows": null,
            "height": null,
            "justify_content": null,
            "justify_items": null,
            "left": null,
            "margin": null,
            "max_height": null,
            "max_width": null,
            "min_height": null,
            "min_width": null,
            "object_fit": null,
            "object_position": null,
            "order": null,
            "overflow": null,
            "overflow_x": null,
            "overflow_y": null,
            "padding": null,
            "right": null,
            "top": null,
            "visibility": null,
            "width": null
          }
        },
        "953b3dcb76b34a5a9cb36c74630f9479": {
          "model_module": "@jupyter-widgets/controls",
          "model_name": "DescriptionStyleModel",
          "model_module_version": "1.5.0",
          "state": {
            "_model_module": "@jupyter-widgets/controls",
            "_model_module_version": "1.5.0",
            "_model_name": "DescriptionStyleModel",
            "_view_count": null,
            "_view_module": "@jupyter-widgets/base",
            "_view_module_version": "1.2.0",
            "_view_name": "StyleView",
            "description_width": ""
          }
        },
        "28daf991f8e24612b15326613043d1f7": {
          "model_module": "@jupyter-widgets/base",
          "model_name": "LayoutModel",
          "model_module_version": "1.2.0",
          "state": {
            "_model_module": "@jupyter-widgets/base",
            "_model_module_version": "1.2.0",
            "_model_name": "LayoutModel",
            "_view_count": null,
            "_view_module": "@jupyter-widgets/base",
            "_view_module_version": "1.2.0",
            "_view_name": "LayoutView",
            "align_content": null,
            "align_items": null,
            "align_self": null,
            "border": null,
            "bottom": null,
            "display": null,
            "flex": null,
            "flex_flow": null,
            "grid_area": null,
            "grid_auto_columns": null,
            "grid_auto_flow": null,
            "grid_auto_rows": null,
            "grid_column": null,
            "grid_gap": null,
            "grid_row": null,
            "grid_template_areas": null,
            "grid_template_columns": null,
            "grid_template_rows": null,
            "height": null,
            "justify_content": null,
            "justify_items": null,
            "left": null,
            "margin": null,
            "max_height": null,
            "max_width": null,
            "min_height": null,
            "min_width": null,
            "object_fit": null,
            "object_position": null,
            "order": null,
            "overflow": null,
            "overflow_x": null,
            "overflow_y": null,
            "padding": null,
            "right": null,
            "top": null,
            "visibility": null,
            "width": null
          }
        },
        "933fdda5944a461d99e6baa271f9daef": {
          "model_module": "@jupyter-widgets/controls",
          "model_name": "ProgressStyleModel",
          "model_module_version": "1.5.0",
          "state": {
            "_model_module": "@jupyter-widgets/controls",
            "_model_module_version": "1.5.0",
            "_model_name": "ProgressStyleModel",
            "_view_count": null,
            "_view_module": "@jupyter-widgets/base",
            "_view_module_version": "1.2.0",
            "_view_name": "StyleView",
            "bar_color": null,
            "description_width": ""
          }
        },
        "2c2360ab93cb4e44a844b0ee6c86d160": {
          "model_module": "@jupyter-widgets/base",
          "model_name": "LayoutModel",
          "model_module_version": "1.2.0",
          "state": {
            "_model_module": "@jupyter-widgets/base",
            "_model_module_version": "1.2.0",
            "_model_name": "LayoutModel",
            "_view_count": null,
            "_view_module": "@jupyter-widgets/base",
            "_view_module_version": "1.2.0",
            "_view_name": "LayoutView",
            "align_content": null,
            "align_items": null,
            "align_self": null,
            "border": null,
            "bottom": null,
            "display": null,
            "flex": null,
            "flex_flow": null,
            "grid_area": null,
            "grid_auto_columns": null,
            "grid_auto_flow": null,
            "grid_auto_rows": null,
            "grid_column": null,
            "grid_gap": null,
            "grid_row": null,
            "grid_template_areas": null,
            "grid_template_columns": null,
            "grid_template_rows": null,
            "height": null,
            "justify_content": null,
            "justify_items": null,
            "left": null,
            "margin": null,
            "max_height": null,
            "max_width": null,
            "min_height": null,
            "min_width": null,
            "object_fit": null,
            "object_position": null,
            "order": null,
            "overflow": null,
            "overflow_x": null,
            "overflow_y": null,
            "padding": null,
            "right": null,
            "top": null,
            "visibility": null,
            "width": null
          }
        },
        "c5bb1145402640598e84d03bdbaba8d2": {
          "model_module": "@jupyter-widgets/controls",
          "model_name": "DescriptionStyleModel",
          "model_module_version": "1.5.0",
          "state": {
            "_model_module": "@jupyter-widgets/controls",
            "_model_module_version": "1.5.0",
            "_model_name": "DescriptionStyleModel",
            "_view_count": null,
            "_view_module": "@jupyter-widgets/base",
            "_view_module_version": "1.2.0",
            "_view_name": "StyleView",
            "description_width": ""
          }
        }
      }
    }
  },
  "nbformat": 4,
  "nbformat_minor": 0
}